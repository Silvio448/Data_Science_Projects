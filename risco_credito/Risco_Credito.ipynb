{
 "cells": [
  {
   "cell_type": "markdown",
   "metadata": {
    "id": "M2U96QEIwhed"
   },
   "source": [
    "# Modelagem de Risco de Crédito com Precisão: Utilizando Random Forest para Prever o Futuro Financeiro\n",
    "\n"
   ]
  },
  {
   "cell_type": "markdown",
   "metadata": {
    "id": "6vXQ1ztgz2qM"
   },
   "source": [
    "Este portfólio é uma exploração do poder do aprendizado de máquina aplicado a problemas do mundo real, traduzindo dados em informações significativas e auxiliando na tomada de decisões embasadas. Ele exemplifica como algoritmos como o Random Forest Classifier podem ser aliados indispensáveis em um setor tão vital quanto o financeiro, onde a precisão e a previsão são cruciais.\n",
    "\n",
    "Ao capacitar as instituições financeiras com uma ferramenta que avalia de forma objetiva e precisa os riscos associados a cada candidato a empréstimo, o modelo Random Forest Classifier desempenha um papel significativo na mitigação de riscos financeiros. Ele contribui para a redução de perdas causadas por inadimplência e, ao mesmo tempo, permite a concessão de empréstimos a mutuários confiáveis que podem ser subestimados por abordagens tradicionais."
   ]
  },
  {
   "cell_type": "markdown",
   "metadata": {
    "id": "IQUuPuNxK6t4"
   },
   "source": [
    "## Sobre o Dataset\n",
    "\n"
   ]
  },
  {
   "cell_type": "markdown",
   "metadata": {
    "id": "H883Za4RxSI6"
   },
   "source": [
    "Os dados utilizados neste projéto, estão disponiveis no site do kaggle no link indicado abaixo:\n",
    "\n",
    "https://www.kaggle.com/datasets/laotse/credit-risk-dataset\n",
    "\n",
    "\n",
    "Abaixo está a relação de recursos(variáveis) e uma breve descrição sobre os dados:\n",
    "<br><br>\n",
    "Nome do recurso e Descrição<br>\n",
    "person_age:          Idade<br>\n",
    "person_income:\tRenda Anual<br>\n",
    "person_home_ownership: \tPropriedade da casa<br>\n",
    "person_emp_length:\tDuração do emprego ( em anos )<br>\n",
    "loan_intent:\tIntenção de empréstimo<br>\n",
    "loan_grade:\tGrau de empréstimo<br>\n",
    "loan_amnt:\tMontante do empréstimo<br>\n",
    "loan_int_rate:\tTaxa de juro<br>\n",
    "loan_status:\tO status do empréstimo ( 0 não é padrão 1 é padrão )<br>\n",
    "loan_percent_income:\tRenda percentual<br>\n",
    "cb_person_default_on_file:\tPadrão histórico<br>\n",
    "cb_preson_cred_hist_length:\tDuração do histórico de crédito<br>"
   ]
  },
  {
   "cell_type": "markdown",
   "metadata": {
    "id": "dWmT76tsJ5Az"
   },
   "source": [
    "## Parte 1 - Carrega Bibliotecas e conjunto de Dados"
   ]
  },
  {
   "cell_type": "code",
   "execution_count": 1,
   "metadata": {
    "ExecuteTime": {
     "end_time": "2023-08-26T08:24:39.430213Z",
     "start_time": "2023-08-26T08:23:35.681162Z"
    },
    "id": "QuSbwpz_SfGa"
   },
   "outputs": [],
   "source": [
    "# ========= bibliotecas =============\n",
    "\n",
    "import pandas as pd\n",
    "import numpy as np\n",
    "import seaborn as sns\n",
    "import plotly.express as px\n",
    "import matplotlib.pyplot as plt\n",
    "import warnings\n",
    "\n",
    "from sklearn.ensemble import RandomForestClassifier\n",
    "from sklearn.model_selection import RandomizedSearchCV\n",
    "from sklearn.model_selection import train_test_split\n",
    "from sklearn.preprocessing import LabelEncoder\n",
    "from sklearn.metrics import mean_squared_error, precision_score, recall_score, f1_score, accuracy_score, roc_auc_score, confusion_matrix\n",
    "from sklearn.metrics import r2_score # para medir a acuracia do modelo\n",
    "from imblearn.over_sampling import SMOTE\n",
    "from sklearn.preprocessing import MinMaxScaler, OneHotEncoder, StandardScaler # para padronizar os dados\n",
    "from sklearn.impute import SimpleImputer\n",
    "\n",
    "import time\n",
    "import gzip\n",
    "import pickle\n",
    "import joblib # para salvar o modelo preditivo\n",
    "\n",
    "sns.set()\n",
    "%matplotlib inline\n",
    "warnings.filterwarnings('ignore')"
   ]
  },
  {
   "cell_type": "code",
   "execution_count": 2,
   "metadata": {
    "ExecuteTime": {
     "end_time": "2023-08-26T08:24:42.806921Z",
     "start_time": "2023-08-26T08:24:39.436220Z"
    },
    "id": "gz2KMscGBxHB"
   },
   "outputs": [],
   "source": [
    "# carrega o arquivo\n",
    "arquivo = './datasets/credit_risk_dataset.csv'\n",
    "df = pd.read_csv(arquivo)"
   ]
  },
  {
   "cell_type": "markdown",
   "metadata": {
    "heading_collapsed": true,
    "id": "qMtTNY7kKSIn"
   },
   "source": [
    "## Parte 2 - Análise Exploratória dos dados\n",
    "\n",
    "Nesta etapa, será feita uma análise exploratória dos dados, visando compreender sua distribuição e seu comportamento.\n",
    "\n",
    "Etapas que serão aplicas:\n",
    "\n",
    "* Tratamento de possíveis valores faltantes (missing).\n",
    "* Transformações em algumas variáveis (colunas).\n",
    "* Tratamendo de possíveis valores discrepantes (Outliers).\n",
    "* Criação de novas colunas visando facilitar o entendimento dos dados."
   ]
  },
  {
   "cell_type": "code",
   "execution_count": 3,
   "metadata": {
    "ExecuteTime": {
     "end_time": "2023-08-26T08:24:44.924922Z",
     "start_time": "2023-08-26T08:24:42.811923Z"
    },
    "colab": {
     "base_uri": "https://localhost:8080/",
     "height": 226
    },
    "hidden": true,
    "id": "gbY9epKpC3O_",
    "outputId": "f06ddc3d-cf86-4361-cb12-34ef1bbffece"
   },
   "outputs": [
    {
     "data": {
      "text/html": [
       "<div>\n",
       "<style scoped>\n",
       "    .dataframe tbody tr th:only-of-type {\n",
       "        vertical-align: middle;\n",
       "    }\n",
       "\n",
       "    .dataframe tbody tr th {\n",
       "        vertical-align: top;\n",
       "    }\n",
       "\n",
       "    .dataframe thead th {\n",
       "        text-align: right;\n",
       "    }\n",
       "</style>\n",
       "<table border=\"1\" class=\"dataframe\">\n",
       "  <thead>\n",
       "    <tr style=\"text-align: right;\">\n",
       "      <th></th>\n",
       "      <th>person_age</th>\n",
       "      <th>person_income</th>\n",
       "      <th>person_home_ownership</th>\n",
       "      <th>person_emp_length</th>\n",
       "      <th>loan_intent</th>\n",
       "      <th>loan_grade</th>\n",
       "      <th>loan_amnt</th>\n",
       "      <th>loan_int_rate</th>\n",
       "      <th>loan_status</th>\n",
       "      <th>loan_percent_income</th>\n",
       "      <th>cb_person_default_on_file</th>\n",
       "      <th>cb_person_cred_hist_length</th>\n",
       "    </tr>\n",
       "  </thead>\n",
       "  <tbody>\n",
       "    <tr>\n",
       "      <th>0</th>\n",
       "      <td>22</td>\n",
       "      <td>59000</td>\n",
       "      <td>RENT</td>\n",
       "      <td>123.0</td>\n",
       "      <td>PERSONAL</td>\n",
       "      <td>D</td>\n",
       "      <td>35000</td>\n",
       "      <td>16.02</td>\n",
       "      <td>1</td>\n",
       "      <td>0.59</td>\n",
       "      <td>Y</td>\n",
       "      <td>3</td>\n",
       "    </tr>\n",
       "    <tr>\n",
       "      <th>1</th>\n",
       "      <td>21</td>\n",
       "      <td>9600</td>\n",
       "      <td>OWN</td>\n",
       "      <td>5.0</td>\n",
       "      <td>EDUCATION</td>\n",
       "      <td>B</td>\n",
       "      <td>1000</td>\n",
       "      <td>11.14</td>\n",
       "      <td>0</td>\n",
       "      <td>0.10</td>\n",
       "      <td>N</td>\n",
       "      <td>2</td>\n",
       "    </tr>\n",
       "    <tr>\n",
       "      <th>2</th>\n",
       "      <td>25</td>\n",
       "      <td>9600</td>\n",
       "      <td>MORTGAGE</td>\n",
       "      <td>1.0</td>\n",
       "      <td>MEDICAL</td>\n",
       "      <td>C</td>\n",
       "      <td>5500</td>\n",
       "      <td>12.87</td>\n",
       "      <td>1</td>\n",
       "      <td>0.57</td>\n",
       "      <td>N</td>\n",
       "      <td>3</td>\n",
       "    </tr>\n",
       "    <tr>\n",
       "      <th>3</th>\n",
       "      <td>23</td>\n",
       "      <td>65500</td>\n",
       "      <td>RENT</td>\n",
       "      <td>4.0</td>\n",
       "      <td>MEDICAL</td>\n",
       "      <td>C</td>\n",
       "      <td>35000</td>\n",
       "      <td>15.23</td>\n",
       "      <td>1</td>\n",
       "      <td>0.53</td>\n",
       "      <td>N</td>\n",
       "      <td>2</td>\n",
       "    </tr>\n",
       "    <tr>\n",
       "      <th>4</th>\n",
       "      <td>24</td>\n",
       "      <td>54400</td>\n",
       "      <td>RENT</td>\n",
       "      <td>8.0</td>\n",
       "      <td>MEDICAL</td>\n",
       "      <td>C</td>\n",
       "      <td>35000</td>\n",
       "      <td>14.27</td>\n",
       "      <td>1</td>\n",
       "      <td>0.55</td>\n",
       "      <td>Y</td>\n",
       "      <td>4</td>\n",
       "    </tr>\n",
       "  </tbody>\n",
       "</table>\n",
       "</div>"
      ],
      "text/plain": [
       "   person_age  person_income person_home_ownership  person_emp_length  \\\n",
       "0          22          59000                  RENT              123.0   \n",
       "1          21           9600                   OWN                5.0   \n",
       "2          25           9600              MORTGAGE                1.0   \n",
       "3          23          65500                  RENT                4.0   \n",
       "4          24          54400                  RENT                8.0   \n",
       "\n",
       "  loan_intent loan_grade  loan_amnt  loan_int_rate  loan_status  \\\n",
       "0    PERSONAL          D      35000          16.02            1   \n",
       "1   EDUCATION          B       1000          11.14            0   \n",
       "2     MEDICAL          C       5500          12.87            1   \n",
       "3     MEDICAL          C      35000          15.23            1   \n",
       "4     MEDICAL          C      35000          14.27            1   \n",
       "\n",
       "   loan_percent_income cb_person_default_on_file  cb_person_cred_hist_length  \n",
       "0                 0.59                         Y                           3  \n",
       "1                 0.10                         N                           2  \n",
       "2                 0.57                         N                           3  \n",
       "3                 0.53                         N                           2  \n",
       "4                 0.55                         Y                           4  "
      ]
     },
     "execution_count": 3,
     "metadata": {},
     "output_type": "execute_result"
    }
   ],
   "source": [
    "df.head()"
   ]
  },
  {
   "cell_type": "code",
   "execution_count": 4,
   "metadata": {
    "ExecuteTime": {
     "end_time": "2023-08-26T08:24:44.954923Z",
     "start_time": "2023-08-26T08:24:44.930918Z"
    },
    "colab": {
     "base_uri": "https://localhost:8080/"
    },
    "hidden": true,
    "id": "dmAu0_cRjsbb",
    "outputId": "b9876eca-9cc9-490f-aa94-3487aaf361a8"
   },
   "outputs": [
    {
     "data": {
      "text/plain": [
       "(32581, 12)"
      ]
     },
     "execution_count": 4,
     "metadata": {},
     "output_type": "execute_result"
    }
   ],
   "source": [
    "# quantidade de linhas e colunas do dataset\n",
    "df.shape"
   ]
  },
  {
   "cell_type": "code",
   "execution_count": 5,
   "metadata": {
    "ExecuteTime": {
     "end_time": "2023-08-26T08:24:46.422389Z",
     "start_time": "2023-08-26T08:24:44.958924Z"
    },
    "colab": {
     "base_uri": "https://localhost:8080/"
    },
    "hidden": true,
    "id": "ee29dPeokglE",
    "outputId": "b3361bfe-bc51-436c-bcc7-309d56c26277"
   },
   "outputs": [
    {
     "data": {
      "text/plain": [
       "person_age                       0\n",
       "person_income                    0\n",
       "person_home_ownership            0\n",
       "person_emp_length              895\n",
       "loan_intent                      0\n",
       "loan_grade                       0\n",
       "loan_amnt                        0\n",
       "loan_int_rate                 3116\n",
       "loan_status                      0\n",
       "loan_percent_income              0\n",
       "cb_person_default_on_file        0\n",
       "cb_person_cred_hist_length       0\n",
       "dtype: int64"
      ]
     },
     "execution_count": 5,
     "metadata": {},
     "output_type": "execute_result"
    }
   ],
   "source": [
    "# verifica se ha valores nulos\n",
    "df.isnull().sum()"
   ]
  },
  {
   "cell_type": "code",
   "execution_count": 6,
   "metadata": {
    "ExecuteTime": {
     "end_time": "2023-08-26T08:24:49.295342Z",
     "start_time": "2023-08-26T08:24:46.426391Z"
    },
    "colab": {
     "base_uri": "https://localhost:8080/"
    },
    "hidden": true,
    "id": "dtGpUQ6OC6zN",
    "outputId": "e1613fa8-5b0b-41af-a26d-6bde8a8eefa0"
   },
   "outputs": [
    {
     "name": "stdout",
     "output_type": "stream",
     "text": [
      "<class 'pandas.core.frame.DataFrame'>\n",
      "RangeIndex: 32581 entries, 0 to 32580\n",
      "Data columns (total 12 columns):\n",
      " #   Column                      Non-Null Count  Dtype  \n",
      "---  ------                      --------------  -----  \n",
      " 0   person_age                  32581 non-null  int64  \n",
      " 1   person_income               32581 non-null  int64  \n",
      " 2   person_home_ownership       32581 non-null  object \n",
      " 3   person_emp_length           31686 non-null  float64\n",
      " 4   loan_intent                 32581 non-null  object \n",
      " 5   loan_grade                  32581 non-null  object \n",
      " 6   loan_amnt                   32581 non-null  int64  \n",
      " 7   loan_int_rate               29465 non-null  float64\n",
      " 8   loan_status                 32581 non-null  int64  \n",
      " 9   loan_percent_income         32581 non-null  float64\n",
      " 10  cb_person_default_on_file   32581 non-null  object \n",
      " 11  cb_person_cred_hist_length  32581 non-null  int64  \n",
      "dtypes: float64(3), int64(5), object(4)\n",
      "memory usage: 3.0+ MB\n"
     ]
    }
   ],
   "source": [
    "# informações gerais do dataset\n",
    "df.info()"
   ]
  },
  {
   "cell_type": "markdown",
   "metadata": {
    "hidden": true,
    "id": "oud705iWOeyh"
   },
   "source": [
    "Como visto nas celulas acima, existem duas variáveis que no dataframe aparecem como numéricas, porém utilizando o comando ``info()`` do pandas, é possivel ver que no dtype aparecem como object.\n",
    "\n",
    "Sendo assim,será necessário fazer a transformação do tipo (dtype) das variáveis ``person_emp_length`` e ``loan_int_rate`` de object para numeric usando o comando ``pandas.to_numeric(variavel_a_ser_transformada, errors='coerce')``"
   ]
  },
  {
   "cell_type": "code",
   "execution_count": 7,
   "metadata": {
    "ExecuteTime": {
     "end_time": "2023-08-26T08:24:49.373341Z",
     "start_time": "2023-08-26T08:24:49.299341Z"
    },
    "hidden": true,
    "id": "jtKiYqKkviIo"
   },
   "outputs": [],
   "source": [
    "df.person_emp_length = pd.to_numeric(df.person_emp_length, errors='coerce')\n",
    "df.loan_int_rate = pd.to_numeric(df.loan_int_rate, errors='coerce')"
   ]
  },
  {
   "cell_type": "code",
   "execution_count": 8,
   "metadata": {
    "ExecuteTime": {
     "end_time": "2023-08-26T08:24:50.013342Z",
     "start_time": "2023-08-26T08:24:49.379342Z"
    },
    "colab": {
     "base_uri": "https://localhost:8080/"
    },
    "hidden": true,
    "id": "Lrp3KIr1iPh3",
    "outputId": "dedd5e6a-13fb-4f83-fc61-774c0b3667aa"
   },
   "outputs": [
    {
     "name": "stdout",
     "output_type": "stream",
     "text": [
      "<class 'pandas.core.frame.DataFrame'>\n",
      "RangeIndex: 32581 entries, 0 to 32580\n",
      "Data columns (total 12 columns):\n",
      " #   Column                      Non-Null Count  Dtype  \n",
      "---  ------                      --------------  -----  \n",
      " 0   person_age                  32581 non-null  int64  \n",
      " 1   person_income               32581 non-null  int64  \n",
      " 2   person_home_ownership       32581 non-null  object \n",
      " 3   person_emp_length           31686 non-null  float64\n",
      " 4   loan_intent                 32581 non-null  object \n",
      " 5   loan_grade                  32581 non-null  object \n",
      " 6   loan_amnt                   32581 non-null  int64  \n",
      " 7   loan_int_rate               29465 non-null  float64\n",
      " 8   loan_status                 32581 non-null  int64  \n",
      " 9   loan_percent_income         32581 non-null  float64\n",
      " 10  cb_person_default_on_file   32581 non-null  object \n",
      " 11  cb_person_cred_hist_length  32581 non-null  int64  \n",
      "dtypes: float64(3), int64(5), object(4)\n",
      "memory usage: 3.0+ MB\n"
     ]
    }
   ],
   "source": [
    "df.info()"
   ]
  },
  {
   "cell_type": "code",
   "execution_count": 9,
   "metadata": {
    "ExecuteTime": {
     "end_time": "2023-08-26T08:24:50.324340Z",
     "start_time": "2023-08-26T08:24:50.019340Z"
    },
    "colab": {
     "base_uri": "https://localhost:8080/"
    },
    "hidden": true,
    "id": "hL-DoP8Dku13",
    "outputId": "cd51e934-61b1-4637-f703-6473c7d60aa7"
   },
   "outputs": [
    {
     "data": {
      "text/plain": [
       "person_age                       0\n",
       "person_income                    0\n",
       "person_home_ownership            0\n",
       "person_emp_length              895\n",
       "loan_intent                      0\n",
       "loan_grade                       0\n",
       "loan_amnt                        0\n",
       "loan_int_rate                 3116\n",
       "loan_status                      0\n",
       "loan_percent_income              0\n",
       "cb_person_default_on_file        0\n",
       "cb_person_cred_hist_length       0\n",
       "dtype: int64"
      ]
     },
     "execution_count": 9,
     "metadata": {},
     "output_type": "execute_result"
    }
   ],
   "source": [
    "# verifica se ha valores nulos\n",
    "df.isnull().sum()"
   ]
  },
  {
   "cell_type": "markdown",
   "metadata": {
    "hidden": true,
    "id": "MLGmO3hlc8tl"
   },
   "source": [
    "Como visto acima, após a transformação das variáveis person_emp_length e loan_int_rate para numéricas surgiram valores núlos.\n",
    "* person_emp_length: Duração do emprego ( em anos )\n",
    "* loan_int_rate: Taxa de juros\n",
    "\n",
    "Com relação a variável ``person_emp_length: Duração do emprego ( em anos )``, os valores nulos podem representar as pessoas que ainda estão ativas no emprego. Neste caso esses valores(nulos) serão preenchidos com a média da coluna em questão.\n",
    "\n",
    "Com relação a variável ``loan_int_rate: Taxa de juros``, pode representar um emprestimo com taxa de juro em 0%, mas com esse tipo de taxa, não ha rentabilidade para a instituição bancária. Neste caso esses valores(nulos) serão preenchidos com a mediana da coluna em questão."
   ]
  },
  {
   "cell_type": "code",
   "execution_count": 10,
   "metadata": {
    "ExecuteTime": {
     "end_time": "2023-08-26T08:24:50.682990Z",
     "start_time": "2023-08-26T08:24:50.340339Z"
    },
    "hidden": true,
    "id": "L8Sb9C5AiYk0"
   },
   "outputs": [],
   "source": [
    "df.person_emp_length = df.person_emp_length.fillna(df.person_emp_length.mean())\n",
    "df.loan_int_rate = df.loan_int_rate.fillna(df.loan_int_rate.median())"
   ]
  },
  {
   "cell_type": "code",
   "execution_count": 11,
   "metadata": {
    "ExecuteTime": {
     "end_time": "2023-08-26T08:24:50.853991Z",
     "start_time": "2023-08-26T08:24:50.686996Z"
    },
    "colab": {
     "base_uri": "https://localhost:8080/"
    },
    "hidden": true,
    "id": "hD6PMvUOk1T2",
    "outputId": "73a0c283-fa91-4c4c-e824-e5137a42d3de"
   },
   "outputs": [
    {
     "data": {
      "text/plain": [
       "person_age                    0\n",
       "person_income                 0\n",
       "person_home_ownership         0\n",
       "person_emp_length             0\n",
       "loan_intent                   0\n",
       "loan_grade                    0\n",
       "loan_amnt                     0\n",
       "loan_int_rate                 0\n",
       "loan_status                   0\n",
       "loan_percent_income           0\n",
       "cb_person_default_on_file     0\n",
       "cb_person_cred_hist_length    0\n",
       "dtype: int64"
      ]
     },
     "execution_count": 11,
     "metadata": {},
     "output_type": "execute_result"
    }
   ],
   "source": [
    "# verifica se ha valores nulos\n",
    "df.isnull().sum()"
   ]
  },
  {
   "cell_type": "code",
   "execution_count": 12,
   "metadata": {
    "ExecuteTime": {
     "end_time": "2023-08-26T08:24:51.227992Z",
     "start_time": "2023-08-26T08:24:50.858001Z"
    },
    "colab": {
     "base_uri": "https://localhost:8080/"
    },
    "hidden": true,
    "id": "-2ZfsxfRje9I",
    "outputId": "653b83db-5b64-448e-b8df-b8a03d94a833"
   },
   "outputs": [
    {
     "name": "stdout",
     "output_type": "stream",
     "text": [
      "<class 'pandas.core.frame.DataFrame'>\n",
      "RangeIndex: 32581 entries, 0 to 32580\n",
      "Data columns (total 12 columns):\n",
      " #   Column                      Non-Null Count  Dtype  \n",
      "---  ------                      --------------  -----  \n",
      " 0   person_age                  32581 non-null  int64  \n",
      " 1   person_income               32581 non-null  int64  \n",
      " 2   person_home_ownership       32581 non-null  object \n",
      " 3   person_emp_length           32581 non-null  float64\n",
      " 4   loan_intent                 32581 non-null  object \n",
      " 5   loan_grade                  32581 non-null  object \n",
      " 6   loan_amnt                   32581 non-null  int64  \n",
      " 7   loan_int_rate               32581 non-null  float64\n",
      " 8   loan_status                 32581 non-null  int64  \n",
      " 9   loan_percent_income         32581 non-null  float64\n",
      " 10  cb_person_default_on_file   32581 non-null  object \n",
      " 11  cb_person_cred_hist_length  32581 non-null  int64  \n",
      "dtypes: float64(3), int64(5), object(4)\n",
      "memory usage: 3.0+ MB\n"
     ]
    }
   ],
   "source": [
    "df.info()"
   ]
  },
  {
   "cell_type": "code",
   "execution_count": 13,
   "metadata": {
    "ExecuteTime": {
     "end_time": "2023-08-26T08:24:51.871154Z",
     "start_time": "2023-08-26T08:24:51.230994Z"
    },
    "colab": {
     "base_uri": "https://localhost:8080/",
     "height": 300
    },
    "hidden": true,
    "id": "j5_v3zqBY4su",
    "outputId": "a0b0dcc5-b37b-4cca-b397-145677825194"
   },
   "outputs": [
    {
     "data": {
      "text/html": [
       "<div>\n",
       "<style scoped>\n",
       "    .dataframe tbody tr th:only-of-type {\n",
       "        vertical-align: middle;\n",
       "    }\n",
       "\n",
       "    .dataframe tbody tr th {\n",
       "        vertical-align: top;\n",
       "    }\n",
       "\n",
       "    .dataframe thead th {\n",
       "        text-align: right;\n",
       "    }\n",
       "</style>\n",
       "<table border=\"1\" class=\"dataframe\">\n",
       "  <thead>\n",
       "    <tr style=\"text-align: right;\">\n",
       "      <th></th>\n",
       "      <th>person_age</th>\n",
       "      <th>person_income</th>\n",
       "      <th>person_emp_length</th>\n",
       "      <th>loan_amnt</th>\n",
       "      <th>loan_int_rate</th>\n",
       "      <th>loan_status</th>\n",
       "      <th>loan_percent_income</th>\n",
       "      <th>cb_person_cred_hist_length</th>\n",
       "    </tr>\n",
       "  </thead>\n",
       "  <tbody>\n",
       "    <tr>\n",
       "      <th>count</th>\n",
       "      <td>32581.000000</td>\n",
       "      <td>3.258100e+04</td>\n",
       "      <td>32581.000000</td>\n",
       "      <td>32581.000000</td>\n",
       "      <td>32581.000000</td>\n",
       "      <td>32581.000000</td>\n",
       "      <td>32581.000000</td>\n",
       "      <td>32581.000000</td>\n",
       "    </tr>\n",
       "    <tr>\n",
       "      <th>mean</th>\n",
       "      <td>27.734600</td>\n",
       "      <td>6.607485e+04</td>\n",
       "      <td>4.789686</td>\n",
       "      <td>9589.371106</td>\n",
       "      <td>11.009620</td>\n",
       "      <td>0.218164</td>\n",
       "      <td>0.170203</td>\n",
       "      <td>5.804211</td>\n",
       "    </tr>\n",
       "    <tr>\n",
       "      <th>std</th>\n",
       "      <td>6.348078</td>\n",
       "      <td>6.198312e+04</td>\n",
       "      <td>4.085333</td>\n",
       "      <td>6322.086646</td>\n",
       "      <td>3.081611</td>\n",
       "      <td>0.413006</td>\n",
       "      <td>0.106782</td>\n",
       "      <td>4.055001</td>\n",
       "    </tr>\n",
       "    <tr>\n",
       "      <th>min</th>\n",
       "      <td>20.000000</td>\n",
       "      <td>4.000000e+03</td>\n",
       "      <td>0.000000</td>\n",
       "      <td>500.000000</td>\n",
       "      <td>5.420000</td>\n",
       "      <td>0.000000</td>\n",
       "      <td>0.000000</td>\n",
       "      <td>2.000000</td>\n",
       "    </tr>\n",
       "    <tr>\n",
       "      <th>25%</th>\n",
       "      <td>23.000000</td>\n",
       "      <td>3.850000e+04</td>\n",
       "      <td>2.000000</td>\n",
       "      <td>5000.000000</td>\n",
       "      <td>8.490000</td>\n",
       "      <td>0.000000</td>\n",
       "      <td>0.090000</td>\n",
       "      <td>3.000000</td>\n",
       "    </tr>\n",
       "    <tr>\n",
       "      <th>50%</th>\n",
       "      <td>26.000000</td>\n",
       "      <td>5.500000e+04</td>\n",
       "      <td>4.000000</td>\n",
       "      <td>8000.000000</td>\n",
       "      <td>10.990000</td>\n",
       "      <td>0.000000</td>\n",
       "      <td>0.150000</td>\n",
       "      <td>4.000000</td>\n",
       "    </tr>\n",
       "    <tr>\n",
       "      <th>75%</th>\n",
       "      <td>30.000000</td>\n",
       "      <td>7.920000e+04</td>\n",
       "      <td>7.000000</td>\n",
       "      <td>12200.000000</td>\n",
       "      <td>13.110000</td>\n",
       "      <td>0.000000</td>\n",
       "      <td>0.230000</td>\n",
       "      <td>8.000000</td>\n",
       "    </tr>\n",
       "    <tr>\n",
       "      <th>max</th>\n",
       "      <td>144.000000</td>\n",
       "      <td>6.000000e+06</td>\n",
       "      <td>123.000000</td>\n",
       "      <td>35000.000000</td>\n",
       "      <td>23.220000</td>\n",
       "      <td>1.000000</td>\n",
       "      <td>0.830000</td>\n",
       "      <td>30.000000</td>\n",
       "    </tr>\n",
       "  </tbody>\n",
       "</table>\n",
       "</div>"
      ],
      "text/plain": [
       "         person_age  person_income  person_emp_length     loan_amnt  \\\n",
       "count  32581.000000   3.258100e+04       32581.000000  32581.000000   \n",
       "mean      27.734600   6.607485e+04           4.789686   9589.371106   \n",
       "std        6.348078   6.198312e+04           4.085333   6322.086646   \n",
       "min       20.000000   4.000000e+03           0.000000    500.000000   \n",
       "25%       23.000000   3.850000e+04           2.000000   5000.000000   \n",
       "50%       26.000000   5.500000e+04           4.000000   8000.000000   \n",
       "75%       30.000000   7.920000e+04           7.000000  12200.000000   \n",
       "max      144.000000   6.000000e+06         123.000000  35000.000000   \n",
       "\n",
       "       loan_int_rate   loan_status  loan_percent_income  \\\n",
       "count   32581.000000  32581.000000         32581.000000   \n",
       "mean       11.009620      0.218164             0.170203   \n",
       "std         3.081611      0.413006             0.106782   \n",
       "min         5.420000      0.000000             0.000000   \n",
       "25%         8.490000      0.000000             0.090000   \n",
       "50%        10.990000      0.000000             0.150000   \n",
       "75%        13.110000      0.000000             0.230000   \n",
       "max        23.220000      1.000000             0.830000   \n",
       "\n",
       "       cb_person_cred_hist_length  \n",
       "count                32581.000000  \n",
       "mean                     5.804211  \n",
       "std                      4.055001  \n",
       "min                      2.000000  \n",
       "25%                      3.000000  \n",
       "50%                      4.000000  \n",
       "75%                      8.000000  \n",
       "max                     30.000000  "
      ]
     },
     "execution_count": 13,
     "metadata": {},
     "output_type": "execute_result"
    }
   ],
   "source": [
    "# descrição geral dos dados\n",
    "df.describe()"
   ]
  },
  {
   "cell_type": "code",
   "execution_count": 14,
   "metadata": {
    "ExecuteTime": {
     "end_time": "2023-08-26T08:24:51.946154Z",
     "start_time": "2023-08-26T08:24:51.879159Z"
    },
    "colab": {
     "base_uri": "https://localhost:8080/"
    },
    "hidden": true,
    "id": "IzkyjWWKWyrV",
    "outputId": "accd71ca-44cf-4349-ea83-4dffc559af3a"
   },
   "outputs": [
    {
     "data": {
      "text/plain": [
       "person_age                    0\n",
       "person_income                 0\n",
       "person_home_ownership         0\n",
       "person_emp_length             0\n",
       "loan_intent                   0\n",
       "loan_grade                    0\n",
       "loan_amnt                     0\n",
       "loan_int_rate                 0\n",
       "loan_status                   0\n",
       "loan_percent_income           0\n",
       "cb_person_default_on_file     0\n",
       "cb_person_cred_hist_length    0\n",
       "dtype: int64"
      ]
     },
     "execution_count": 14,
     "metadata": {},
     "output_type": "execute_result"
    }
   ],
   "source": [
    "df.isnull().sum()"
   ]
  },
  {
   "cell_type": "markdown",
   "metadata": {
    "hidden": true,
    "id": "2BRiPv1Sp0oX"
   },
   "source": [
    "Abaixo faremos uma análise visual das variaveis numéricas para entender as distribuições e assim se necessário poder realizar possíveis tratamentos."
   ]
  },
  {
   "cell_type": "code",
   "execution_count": 15,
   "metadata": {
    "ExecuteTime": {
     "end_time": "2023-08-26T08:24:52.465679Z",
     "start_time": "2023-08-26T08:24:51.952160Z"
    },
    "colab": {
     "base_uri": "https://localhost:8080/"
    },
    "hidden": true,
    "id": "2QFmhoPiV6vw",
    "outputId": "d6156a61-d359-49db-d2b8-f8f54790c5f8"
   },
   "outputs": [
    {
     "data": {
      "text/plain": [
       "['person_age',\n",
       " 'person_income',\n",
       " 'person_emp_length',\n",
       " 'loan_amnt',\n",
       " 'loan_int_rate',\n",
       " 'loan_status',\n",
       " 'loan_percent_income',\n",
       " 'cb_person_cred_hist_length']"
      ]
     },
     "execution_count": 15,
     "metadata": {},
     "output_type": "execute_result"
    }
   ],
   "source": [
    "numericas = [x for x in df.columns if df[x].dtypes == 'int64' or df[x].dtypes == 'float64']\n",
    "numericas"
   ]
  },
  {
   "cell_type": "code",
   "execution_count": 16,
   "metadata": {
    "ExecuteTime": {
     "end_time": "2023-08-26T08:24:56.119462Z",
     "start_time": "2023-08-26T08:24:52.470678Z"
    },
    "colab": {
     "base_uri": "https://localhost:8080/",
     "height": 720
    },
    "hidden": true,
    "id": "Vbs_zEGKRU7-",
    "outputId": "38b47ed3-6259-4549-ddc7-9ae31eb36801"
   },
   "outputs": [
    {
     "data": {
      "image/png": "[encoded data removed]",
      "text/plain": [
       "<Figure size 1400x800 with 8 Axes>"
      ]
     },
     "metadata": {},
     "output_type": "display_data"
    }
   ],
   "source": [
    "# criando um plot para ver a distribuição das variaveis numericas\n",
    "plt.rcParams['figure.figsize'] = [14.00, 8.00]\n",
    "plt.rcParams['figure.autolayout'] = True\n",
    "f, axes = plt.subplots(2, 4)\n",
    "\n",
    "linha = 0\n",
    "coluna = 0\n",
    "\n",
    "for i in numericas:\n",
    "    sns.boxplot(data=df, y=i, ax=axes[linha][coluna])\n",
    "    coluna += 1\n",
    "    if coluna == 4:\n",
    "        linha += 1\n",
    "        coluna = 0\n",
    "\n",
    "plt.show()"
   ]
  },
  {
   "cell_type": "markdown",
   "metadata": {
    "hidden": true,
    "id": "l3vqHBnPv0am"
   },
   "source": [
    "Acima, podemos ver que na variável person_age (idade) os valores acima de 40 são vistos com possíveis outliers com registro de idade acima dos 140, o que demostra um possível erro na coleta dos dados. No entando, em uma rapida análise e considerando os dados onde a idade é acima de 90, temos 6 registros onde apenas um indice pode ser considerado aceitavel para compor o dataset, sendo este o indice 32416 onde a idade registrada é de 94 anos.\n",
    "\n",
    "Com relação a variável person_income (Pessoa_renda), o maior registro é de 6000000, no entanto não será tratado como registro incorreto, pois possívelmente pode se tratar de renda de possíveis investimentos.\n",
    "\n",
    "A variável person_emp_length (Duração de emprego (em anos)), apresenta valores acima de 120, o que sera descartado em análise posterior.\n",
    "\n",
    "A variável loan_amnt (Montante do empréstimo), possui valor máximo de 35000, e será mantida em seu estado normal.\n",
    "\n",
    "A variável loan_int_rate (Taxa de juro) ja passou por tratamentos anteriores e por isso também será mantida.\n",
    "\n",
    "A variável loan_status (Status_do_empréstimo) a princípio será mantida, podendo receber tratamento de balanceamento de classe posteriormente.\n",
    "\n",
    "A variável loan_percent_income (Renda percentual) a princípio será mantida.\n",
    "\n",
    "A variável cb_preson_cred_hist_length (Duração do histórico de crédito) apresenta um valor máximo de 30, e por isso também será mantida como está.\n",
    "\n",
    "---\n",
    "\n",
    "A seguir, no conjunto de dados será considerado apenas valores onde a idade é até 94, e a duração de emprego é menor que 120 anos\n",
    "\n",
    "\n"
   ]
  },
  {
   "cell_type": "code",
   "execution_count": 17,
   "metadata": {
    "ExecuteTime": {
     "end_time": "2023-08-26T08:24:56.180471Z",
     "start_time": "2023-08-26T08:24:56.123463Z"
    },
    "hidden": true,
    "id": "0aVvkrU0TcRm"
   },
   "outputs": [],
   "source": [
    "df = df[(df['person_age'] <= 94) & (df['person_emp_length'] < 120)]"
   ]
  },
  {
   "cell_type": "code",
   "execution_count": 18,
   "metadata": {
    "ExecuteTime": {
     "end_time": "2023-08-26T08:24:56.288470Z",
     "start_time": "2023-08-26T08:24:56.186465Z"
    },
    "colab": {
     "base_uri": "https://localhost:8080/",
     "height": 226
    },
    "hidden": true,
    "id": "W83qTR9wVlXT",
    "outputId": "68af744d-199b-42b5-e32e-257710ecee9c"
   },
   "outputs": [
    {
     "data": {
      "text/html": [
       "<div>\n",
       "<style scoped>\n",
       "    .dataframe tbody tr th:only-of-type {\n",
       "        vertical-align: middle;\n",
       "    }\n",
       "\n",
       "    .dataframe tbody tr th {\n",
       "        vertical-align: top;\n",
       "    }\n",
       "\n",
       "    .dataframe thead th {\n",
       "        text-align: right;\n",
       "    }\n",
       "</style>\n",
       "<table border=\"1\" class=\"dataframe\">\n",
       "  <thead>\n",
       "    <tr style=\"text-align: right;\">\n",
       "      <th></th>\n",
       "      <th>person_age</th>\n",
       "      <th>person_income</th>\n",
       "      <th>person_home_ownership</th>\n",
       "      <th>person_emp_length</th>\n",
       "      <th>loan_intent</th>\n",
       "      <th>loan_grade</th>\n",
       "      <th>loan_amnt</th>\n",
       "      <th>loan_int_rate</th>\n",
       "      <th>loan_status</th>\n",
       "      <th>loan_percent_income</th>\n",
       "      <th>cb_person_default_on_file</th>\n",
       "      <th>cb_person_cred_hist_length</th>\n",
       "    </tr>\n",
       "  </thead>\n",
       "  <tbody>\n",
       "    <tr>\n",
       "      <th>1</th>\n",
       "      <td>21</td>\n",
       "      <td>9600</td>\n",
       "      <td>OWN</td>\n",
       "      <td>5.0</td>\n",
       "      <td>EDUCATION</td>\n",
       "      <td>B</td>\n",
       "      <td>1000</td>\n",
       "      <td>11.14</td>\n",
       "      <td>0</td>\n",
       "      <td>0.10</td>\n",
       "      <td>N</td>\n",
       "      <td>2</td>\n",
       "    </tr>\n",
       "    <tr>\n",
       "      <th>2</th>\n",
       "      <td>25</td>\n",
       "      <td>9600</td>\n",
       "      <td>MORTGAGE</td>\n",
       "      <td>1.0</td>\n",
       "      <td>MEDICAL</td>\n",
       "      <td>C</td>\n",
       "      <td>5500</td>\n",
       "      <td>12.87</td>\n",
       "      <td>1</td>\n",
       "      <td>0.57</td>\n",
       "      <td>N</td>\n",
       "      <td>3</td>\n",
       "    </tr>\n",
       "    <tr>\n",
       "      <th>3</th>\n",
       "      <td>23</td>\n",
       "      <td>65500</td>\n",
       "      <td>RENT</td>\n",
       "      <td>4.0</td>\n",
       "      <td>MEDICAL</td>\n",
       "      <td>C</td>\n",
       "      <td>35000</td>\n",
       "      <td>15.23</td>\n",
       "      <td>1</td>\n",
       "      <td>0.53</td>\n",
       "      <td>N</td>\n",
       "      <td>2</td>\n",
       "    </tr>\n",
       "    <tr>\n",
       "      <th>4</th>\n",
       "      <td>24</td>\n",
       "      <td>54400</td>\n",
       "      <td>RENT</td>\n",
       "      <td>8.0</td>\n",
       "      <td>MEDICAL</td>\n",
       "      <td>C</td>\n",
       "      <td>35000</td>\n",
       "      <td>14.27</td>\n",
       "      <td>1</td>\n",
       "      <td>0.55</td>\n",
       "      <td>Y</td>\n",
       "      <td>4</td>\n",
       "    </tr>\n",
       "    <tr>\n",
       "      <th>5</th>\n",
       "      <td>21</td>\n",
       "      <td>9900</td>\n",
       "      <td>OWN</td>\n",
       "      <td>2.0</td>\n",
       "      <td>VENTURE</td>\n",
       "      <td>A</td>\n",
       "      <td>2500</td>\n",
       "      <td>7.14</td>\n",
       "      <td>1</td>\n",
       "      <td>0.25</td>\n",
       "      <td>N</td>\n",
       "      <td>2</td>\n",
       "    </tr>\n",
       "  </tbody>\n",
       "</table>\n",
       "</div>"
      ],
      "text/plain": [
       "   person_age  person_income person_home_ownership  person_emp_length  \\\n",
       "1          21           9600                   OWN                5.0   \n",
       "2          25           9600              MORTGAGE                1.0   \n",
       "3          23          65500                  RENT                4.0   \n",
       "4          24          54400                  RENT                8.0   \n",
       "5          21           9900                   OWN                2.0   \n",
       "\n",
       "  loan_intent loan_grade  loan_amnt  loan_int_rate  loan_status  \\\n",
       "1   EDUCATION          B       1000          11.14            0   \n",
       "2     MEDICAL          C       5500          12.87            1   \n",
       "3     MEDICAL          C      35000          15.23            1   \n",
       "4     MEDICAL          C      35000          14.27            1   \n",
       "5     VENTURE          A       2500           7.14            1   \n",
       "\n",
       "   loan_percent_income cb_person_default_on_file  cb_person_cred_hist_length  \n",
       "1                 0.10                         N                           2  \n",
       "2                 0.57                         N                           3  \n",
       "3                 0.53                         N                           2  \n",
       "4                 0.55                         Y                           4  \n",
       "5                 0.25                         N                           2  "
      ]
     },
     "execution_count": 18,
     "metadata": {},
     "output_type": "execute_result"
    }
   ],
   "source": [
    "df.head()"
   ]
  },
  {
   "cell_type": "markdown",
   "metadata": {
    "hidden": true,
    "id": "P374HE6oZJQ3"
   },
   "source": [
    "A baixo temos uma visualização das distribuições das variáveis numéricas após os tratamentos."
   ]
  },
  {
   "cell_type": "code",
   "execution_count": 19,
   "metadata": {
    "ExecuteTime": {
     "end_time": "2023-08-26T08:25:08.472941Z",
     "start_time": "2023-08-26T08:24:56.291462Z"
    },
    "colab": {
     "base_uri": "https://localhost:8080/",
     "height": 721
    },
    "hidden": true,
    "id": "oR-7SzsB8P6G",
    "outputId": "6137dae8-b595-4d01-f7e6-178821cbdd73"
   },
   "outputs": [
    {
     "data": {
      "image/png": "[encoded data removed]",
      "text/plain": [
       "<Figure size 1400x800 with 8 Axes>"
      ]
     },
     "metadata": {},
     "output_type": "display_data"
    }
   ],
   "source": [
    "numericas = [x for x in df.columns if df[x].dtypes == 'int64' or df[x].dtypes == 'float64']\n",
    "#numericas\n",
    "\n",
    "# criando um plot para ver a distribuição das variaveis numericas\n",
    "plt.rcParams['figure.figsize'] = [14.00, 8.00]\n",
    "plt.rcParams['figure.autolayout'] = True\n",
    "f, axes = plt.subplots(2, 4)\n",
    "\n",
    "linha = 0\n",
    "coluna = 0\n",
    "\n",
    "for i in numericas:\n",
    "    sns.histplot(data=df, x=i, ax=axes[coluna][linha], kde=True)\n",
    "    linha += 1\n",
    "    if linha == 4:\n",
    "        coluna += 1\n",
    "        linha = 0\n",
    "\n",
    "plt.show()"
   ]
  },
  {
   "cell_type": "markdown",
   "metadata": {
    "hidden": true,
    "id": "13FyJTuWHvWU"
   },
   "source": [
    "**person_age:**\n",
    "* Podemos ver que grande parte das pessoas registradas na base de dados, possui idade entre 20 e 40 anos, com uma concentração próxima a 4000 pessoas com idade aproximada entre 22 e 25 anos.\n",
    "\n",
    "**person_income:**\n",
    "* Com relação a renda anual, grande parte das pessoas cadastradas, possuem renda anual de menos de 5000, sendo 4000 a renda mínima registrada.\n",
    "\n",
    "**person_emp_length:**\n",
    "* Com relação ao tempo de empregabilidade das pessoas registradas na base de dados, a média de tempo é de 4 anos de emprego, havendo ainda um tempo mínimo registrado de 0, podendo representar pessoas sem registro de emprego ou trabalhadores liberais, e um tempo máximo de 41 anos de tempo de emprego.\n",
    "\n",
    "**loan_amnt:**\n",
    "* Sobre os valores solicitados como crédito, tem média registrada de 9588, sendo o valor mínimo de crédito solicitado de 500 e um valor máximo registrado de 35.000 solicitado de crédito.\n",
    "\n",
    "**loan_int_rate:**\n",
    "* Quanto a taxas de juros praticadas nas transações, ha registro de média de 11.09% de taxa de juros, sendo a mínima registrada de 5.42% e uma taxa máxima de 23.22%.\n",
    "\n",
    "**loan_status:**\n",
    "* Em relação ao status do empréstimo, 25467 pessoas cadastradas na base de dados, tiveram crédito negado e 7107 foram aprovadas para crédito.\n",
    "\n",
    "**loan_percent_income:**\n",
    "* Sobre o percentual de renda destinada ao financiamento do crédito, tem média registrada em torno de 0.17%, sendo o valor percentual máximo de 0.83% e menos de 1500 pessoas destinando este percentual ao financiamento do crédito solicitado.\n",
    "\n",
    "**cb_preson_cred_hist_length:**\n",
    "* Quanto a duração do histórico de crédito grande parte das pessoas registradas na base de dados, possui um tempo médio de 5 anos, sendo o tempo mínimo registrado de 2 anos e um tempo máximo de 30 anos.\n",
    "\n"
   ]
  },
  {
   "cell_type": "markdown",
   "metadata": {
    "id": "5DXsBrIy95io"
   },
   "source": [
    "## Parte 3 -  Pré-processamento de Dados\n",
    "\n",
    "Nesta etapa serão aplicados os seguintes passos:\n",
    "\n",
    "* Criação de novas variáveis\n",
    "* Criação de função para processamento dos dados\n",
    "* Divisão de dados em treino e teste\n",
    "* Balanceamento de classes\n",
    "* Criação do modelo classificador\n",
    "* Validação cruzada para encontrar os melhores parametros que se ajustem ao modelo\n",
    "* Treino e teste do modelo classificador\n",
    "* Avaliação das Métricas e Variáveis mais Importantes\n",
    "\n",
    "---"
   ]
  },
  {
   "cell_type": "markdown",
   "metadata": {
    "id": "RilNnFkiibZu"
   },
   "source": [
    "A seguir será criada novas colunas categóricas para facilitar a compreenção dos dados"
   ]
  },
  {
   "cell_type": "code",
   "execution_count": 20,
   "metadata": {
    "ExecuteTime": {
     "end_time": "2023-08-26T08:25:08.597943Z",
     "start_time": "2023-08-26T08:25:08.478941Z"
    },
    "id": "LX3YZp1lyZvM"
   },
   "outputs": [],
   "source": [
    "# ### criando uma coluna com as faixas de idade\n",
    "# # Definir os limites para cada faixa etária\n",
    "age_bins = [18, 30, 40, 50, 60, 100]\n",
    "age_labels = ['18-30', '31-40', '41-50', '51-60', '61+']\n",
    "\n",
    "# adicionando nova coluna ao dataframe\n",
    "df['person_age_group'] = pd.cut(df['person_age'], bins=age_bins, labels=age_labels, right=False)\n",
    "\n",
    "# #### criando coluna com faixa de tempo de emprego\n",
    "# person_emp_length_bins = [0, 5, 10, 20, 30, 50]\n",
    "# person_emp_length_labels = ['0-5', '6-10', '11-20', '21-30', '30+']\n",
    "\n",
    "# # adicionando nova coluna ao dataframe\n",
    "# df['person_emp_length_group'] = pd.cut(df['person_emp_length'], bins=person_emp_length_bins, labels=person_emp_length_labels, right=False)\n",
    "\n",
    "# ### criando coluna faixa de renda anual\n",
    "# person_income_bins = [4000, 10000, 20000, 30000, 40000, 50000, 2039784]\n",
    "# person_income_labels = ['4000-10000', '11000-20000', '21000-30000', '31000-40000', '41000-50000', '50000+']\n",
    "\n",
    "# # adicionando nova coluna ao dataframe\n",
    "# df['person_income_group'] = pd.cut(df['person_income'], bins=person_income_bins, labels=person_income_labels, right=False)"
   ]
  },
  {
   "cell_type": "code",
   "execution_count": 21,
   "metadata": {
    "ExecuteTime": {
     "end_time": "2023-08-26T08:25:08.786942Z",
     "start_time": "2023-08-26T08:25:08.601943Z"
    },
    "colab": {
     "base_uri": "https://localhost:8080/"
    },
    "id": "jxz-Lg7ik0mW",
    "outputId": "b23a17f0-5eff-4432-f40c-1e617acfc81b"
   },
   "outputs": [
    {
     "name": "stdout",
     "output_type": "stream",
     "text": [
      "<class 'pandas.core.frame.DataFrame'>\n",
      "Int64Index: 32574 entries, 1 to 32580\n",
      "Data columns (total 13 columns):\n",
      " #   Column                      Non-Null Count  Dtype   \n",
      "---  ------                      --------------  -----   \n",
      " 0   person_age                  32574 non-null  int64   \n",
      " 1   person_income               32574 non-null  int64   \n",
      " 2   person_home_ownership       32574 non-null  object  \n",
      " 3   person_emp_length           32574 non-null  float64 \n",
      " 4   loan_intent                 32574 non-null  object  \n",
      " 5   loan_grade                  32574 non-null  object  \n",
      " 6   loan_amnt                   32574 non-null  int64   \n",
      " 7   loan_int_rate               32574 non-null  float64 \n",
      " 8   loan_status                 32574 non-null  int64   \n",
      " 9   loan_percent_income         32574 non-null  float64 \n",
      " 10  cb_person_default_on_file   32574 non-null  object  \n",
      " 11  cb_person_cred_hist_length  32574 non-null  int64   \n",
      " 12  person_age_group            32574 non-null  category\n",
      "dtypes: category(1), float64(3), int64(5), object(4)\n",
      "memory usage: 4.3+ MB\n"
     ]
    }
   ],
   "source": [
    "df.info()"
   ]
  },
  {
   "cell_type": "code",
   "execution_count": 22,
   "metadata": {
    "ExecuteTime": {
     "end_time": "2023-08-26T08:25:08.833946Z",
     "start_time": "2023-08-26T08:25:08.790944Z"
    },
    "id": "hqI6jp9OGbGf"
   },
   "outputs": [],
   "source": [
    "df1 = df.copy()"
   ]
  },
  {
   "cell_type": "code",
   "execution_count": 23,
   "metadata": {
    "ExecuteTime": {
     "end_time": "2023-08-26T08:25:09.005264Z",
     "start_time": "2023-08-26T08:25:08.838944Z"
    },
    "colab": {
     "base_uri": "https://localhost:8080/"
    },
    "id": "ahbwuD1xlW3l",
    "outputId": "c44b7955-7194-4a95-8774-044b37e89609"
   },
   "outputs": [
    {
     "name": "stdout",
     "output_type": "stream",
     "text": [
      "<class 'pandas.core.frame.DataFrame'>\n",
      "Int64Index: 32574 entries, 1 to 32580\n",
      "Data columns (total 13 columns):\n",
      " #   Column                      Non-Null Count  Dtype   \n",
      "---  ------                      --------------  -----   \n",
      " 0   person_age                  32574 non-null  int64   \n",
      " 1   person_income               32574 non-null  int64   \n",
      " 2   person_home_ownership       32574 non-null  object  \n",
      " 3   person_emp_length           32574 non-null  float64 \n",
      " 4   loan_intent                 32574 non-null  object  \n",
      " 5   loan_grade                  32574 non-null  object  \n",
      " 6   loan_amnt                   32574 non-null  int64   \n",
      " 7   loan_int_rate               32574 non-null  float64 \n",
      " 8   loan_status                 32574 non-null  int64   \n",
      " 9   loan_percent_income         32574 non-null  float64 \n",
      " 10  cb_person_default_on_file   32574 non-null  object  \n",
      " 11  cb_person_cred_hist_length  32574 non-null  int64   \n",
      " 12  person_age_group            32574 non-null  category\n",
      "dtypes: category(1), float64(3), int64(5), object(4)\n",
      "memory usage: 4.3+ MB\n"
     ]
    }
   ],
   "source": [
    "df1.info()"
   ]
  },
  {
   "cell_type": "code",
   "execution_count": 24,
   "metadata": {
    "ExecuteTime": {
     "end_time": "2023-08-26T08:25:09.131260Z",
     "start_time": "2023-08-26T08:25:09.011264Z"
    },
    "colab": {
     "base_uri": "https://localhost:8080/"
    },
    "id": "nQfwphVKMTZd",
    "outputId": "f3ab2385-b103-42f1-8188-462314b7466e"
   },
   "outputs": [
    {
     "data": {
      "text/plain": [
       "['person_home_ownership',\n",
       " 'loan_intent',\n",
       " 'loan_grade',\n",
       " 'cb_person_default_on_file',\n",
       " 'person_age_group']"
      ]
     },
     "execution_count": 24,
     "metadata": {},
     "output_type": "execute_result"
    }
   ],
   "source": [
    "categoricas = [x for x in df1.columns if df1[x].dtypes == 'object' or df1.dtypes[x] == 'category']\n",
    "categoricas"
   ]
  },
  {
   "cell_type": "code",
   "execution_count": 25,
   "metadata": {
    "ExecuteTime": {
     "end_time": "2023-08-26T08:25:09.208260Z",
     "start_time": "2023-08-26T08:25:09.135265Z"
    },
    "colab": {
     "base_uri": "https://localhost:8080/"
    },
    "id": "YpbbhRjNMxC4",
    "outputId": "a208fdc7-5729-4004-8b74-fe8716cef0ac"
   },
   "outputs": [
    {
     "data": {
      "text/plain": [
       "['person_age',\n",
       " 'person_income',\n",
       " 'person_emp_length',\n",
       " 'loan_amnt',\n",
       " 'loan_int_rate',\n",
       " 'loan_status',\n",
       " 'loan_percent_income',\n",
       " 'cb_person_cred_hist_length']"
      ]
     },
     "execution_count": 25,
     "metadata": {},
     "output_type": "execute_result"
    }
   ],
   "source": [
    "numericas = [x for x in df1.columns if df1[x].dtypes == 'int64' or df1[x].dtypes == 'float64']\n",
    "numericas"
   ]
  },
  {
   "cell_type": "code",
   "execution_count": 26,
   "metadata": {
    "ExecuteTime": {
     "end_time": "2023-08-26T08:25:09.720260Z",
     "start_time": "2023-08-26T08:25:09.212264Z"
    },
    "id": "uEzYhqh4neWe"
   },
   "outputs": [],
   "source": [
    "def createXy(df, input_columns, output_column):\n",
    "    \n",
    "    minmax = MinMaxScaler()\n",
    "    onehot = OneHotEncoder(sparse=False, drop='first')\n",
    "    sm = SMOTE(random_state=42)\n",
    "\n",
    "    df.dropna(axis=0, inplace=True)\n",
    "    X = df[input_columns].copy()\n",
    "    X_num = X.select_dtypes(exclude=['object', 'category'])\n",
    "    X_num = minmax.fit_transform(X_num)\n",
    "    X_num = pd.DataFrame(data=X_num, columns=X.select_dtypes(exclude=['object', 'category']).columns)\n",
    "\n",
    "    X_cat = X.select_dtypes(include=['object', 'category'])\n",
    "    X_cat = onehot.fit_transform(X_cat)\n",
    "    columns = []\n",
    "    for c, values in zip(X.select_dtypes(include=['object', 'category']).columns, onehot.categories_):       \n",
    "        for value in values[1:]:\n",
    "            columns.append(f'{c}_{value}')\n",
    "    X_cat = pd.DataFrame(data=X_cat, columns=columns)\n",
    "    X = X_num.join(X_cat)\n",
    "    y = df[output_column].copy()\n",
    "\n",
    "    return X, y\n",
    "\n",
    "X, y = createXy(df1, ['person_age', 'person_income', 'person_home_ownership',\n",
    "       'person_emp_length', 'loan_intent', 'loan_grade', 'loan_amnt',\n",
    "       'loan_int_rate', 'loan_percent_income',\n",
    "       'cb_person_default_on_file', 'cb_person_cred_hist_length',\n",
    "       'person_age_group'], 'loan_status')\n"
   ]
  },
  {
   "cell_type": "code",
   "execution_count": 27,
   "metadata": {
    "ExecuteTime": {
     "end_time": "2023-08-26T08:25:09.798262Z",
     "start_time": "2023-08-26T08:25:09.726263Z"
    },
    "colab": {
     "base_uri": "https://localhost:8080/",
     "height": 273
    },
    "id": "c8k7GTslxBHj",
    "outputId": "d6b53eb6-d029-4240-f5cb-0e42d77ac15c",
    "scrolled": true
   },
   "outputs": [
    {
     "data": {
      "text/html": [
       "<div>\n",
       "<style scoped>\n",
       "    .dataframe tbody tr th:only-of-type {\n",
       "        vertical-align: middle;\n",
       "    }\n",
       "\n",
       "    .dataframe tbody tr th {\n",
       "        vertical-align: top;\n",
       "    }\n",
       "\n",
       "    .dataframe thead th {\n",
       "        text-align: right;\n",
       "    }\n",
       "</style>\n",
       "<table border=\"1\" class=\"dataframe\">\n",
       "  <thead>\n",
       "    <tr style=\"text-align: right;\">\n",
       "      <th></th>\n",
       "      <th>person_age</th>\n",
       "      <th>person_income</th>\n",
       "      <th>person_emp_length</th>\n",
       "      <th>loan_amnt</th>\n",
       "      <th>loan_int_rate</th>\n",
       "      <th>loan_percent_income</th>\n",
       "      <th>cb_person_cred_hist_length</th>\n",
       "      <th>person_home_ownership_OTHER</th>\n",
       "      <th>person_home_ownership_OWN</th>\n",
       "      <th>person_home_ownership_RENT</th>\n",
       "      <th>...</th>\n",
       "      <th>loan_grade_C</th>\n",
       "      <th>loan_grade_D</th>\n",
       "      <th>loan_grade_E</th>\n",
       "      <th>loan_grade_F</th>\n",
       "      <th>loan_grade_G</th>\n",
       "      <th>cb_person_default_on_file_Y</th>\n",
       "      <th>person_age_group_31-40</th>\n",
       "      <th>person_age_group_41-50</th>\n",
       "      <th>person_age_group_51-60</th>\n",
       "      <th>person_age_group_61+</th>\n",
       "    </tr>\n",
       "  </thead>\n",
       "  <tbody>\n",
       "    <tr>\n",
       "      <th>0</th>\n",
       "      <td>0.013514</td>\n",
       "      <td>0.002751</td>\n",
       "      <td>0.121951</td>\n",
       "      <td>0.014493</td>\n",
       "      <td>0.321348</td>\n",
       "      <td>0.120482</td>\n",
       "      <td>0.000000</td>\n",
       "      <td>0.0</td>\n",
       "      <td>1.0</td>\n",
       "      <td>0.0</td>\n",
       "      <td>...</td>\n",
       "      <td>0.0</td>\n",
       "      <td>0.0</td>\n",
       "      <td>0.0</td>\n",
       "      <td>0.0</td>\n",
       "      <td>0.0</td>\n",
       "      <td>0.0</td>\n",
       "      <td>0.0</td>\n",
       "      <td>0.0</td>\n",
       "      <td>0.0</td>\n",
       "      <td>0.0</td>\n",
       "    </tr>\n",
       "    <tr>\n",
       "      <th>1</th>\n",
       "      <td>0.067568</td>\n",
       "      <td>0.002751</td>\n",
       "      <td>0.024390</td>\n",
       "      <td>0.144928</td>\n",
       "      <td>0.418539</td>\n",
       "      <td>0.686747</td>\n",
       "      <td>0.035714</td>\n",
       "      <td>0.0</td>\n",
       "      <td>0.0</td>\n",
       "      <td>0.0</td>\n",
       "      <td>...</td>\n",
       "      <td>1.0</td>\n",
       "      <td>0.0</td>\n",
       "      <td>0.0</td>\n",
       "      <td>0.0</td>\n",
       "      <td>0.0</td>\n",
       "      <td>0.0</td>\n",
       "      <td>0.0</td>\n",
       "      <td>0.0</td>\n",
       "      <td>0.0</td>\n",
       "      <td>0.0</td>\n",
       "    </tr>\n",
       "    <tr>\n",
       "      <th>2</th>\n",
       "      <td>0.040541</td>\n",
       "      <td>0.030209</td>\n",
       "      <td>0.097561</td>\n",
       "      <td>1.000000</td>\n",
       "      <td>0.551124</td>\n",
       "      <td>0.638554</td>\n",
       "      <td>0.000000</td>\n",
       "      <td>0.0</td>\n",
       "      <td>0.0</td>\n",
       "      <td>1.0</td>\n",
       "      <td>...</td>\n",
       "      <td>1.0</td>\n",
       "      <td>0.0</td>\n",
       "      <td>0.0</td>\n",
       "      <td>0.0</td>\n",
       "      <td>0.0</td>\n",
       "      <td>0.0</td>\n",
       "      <td>0.0</td>\n",
       "      <td>0.0</td>\n",
       "      <td>0.0</td>\n",
       "      <td>0.0</td>\n",
       "    </tr>\n",
       "    <tr>\n",
       "      <th>3</th>\n",
       "      <td>0.054054</td>\n",
       "      <td>0.024757</td>\n",
       "      <td>0.195122</td>\n",
       "      <td>1.000000</td>\n",
       "      <td>0.497191</td>\n",
       "      <td>0.662651</td>\n",
       "      <td>0.071429</td>\n",
       "      <td>0.0</td>\n",
       "      <td>0.0</td>\n",
       "      <td>1.0</td>\n",
       "      <td>...</td>\n",
       "      <td>1.0</td>\n",
       "      <td>0.0</td>\n",
       "      <td>0.0</td>\n",
       "      <td>0.0</td>\n",
       "      <td>0.0</td>\n",
       "      <td>1.0</td>\n",
       "      <td>0.0</td>\n",
       "      <td>0.0</td>\n",
       "      <td>0.0</td>\n",
       "      <td>0.0</td>\n",
       "    </tr>\n",
       "    <tr>\n",
       "      <th>4</th>\n",
       "      <td>0.013514</td>\n",
       "      <td>0.002898</td>\n",
       "      <td>0.048780</td>\n",
       "      <td>0.057971</td>\n",
       "      <td>0.096629</td>\n",
       "      <td>0.301205</td>\n",
       "      <td>0.000000</td>\n",
       "      <td>0.0</td>\n",
       "      <td>1.0</td>\n",
       "      <td>0.0</td>\n",
       "      <td>...</td>\n",
       "      <td>0.0</td>\n",
       "      <td>0.0</td>\n",
       "      <td>0.0</td>\n",
       "      <td>0.0</td>\n",
       "      <td>0.0</td>\n",
       "      <td>0.0</td>\n",
       "      <td>0.0</td>\n",
       "      <td>0.0</td>\n",
       "      <td>0.0</td>\n",
       "      <td>0.0</td>\n",
       "    </tr>\n",
       "  </tbody>\n",
       "</table>\n",
       "<p>5 rows × 26 columns</p>\n",
       "</div>"
      ],
      "text/plain": [
       "   person_age  person_income  person_emp_length  loan_amnt  loan_int_rate  \\\n",
       "0    0.013514       0.002751           0.121951   0.014493       0.321348   \n",
       "1    0.067568       0.002751           0.024390   0.144928       0.418539   \n",
       "2    0.040541       0.030209           0.097561   1.000000       0.551124   \n",
       "3    0.054054       0.024757           0.195122   1.000000       0.497191   \n",
       "4    0.013514       0.002898           0.048780   0.057971       0.096629   \n",
       "\n",
       "   loan_percent_income  cb_person_cred_hist_length  \\\n",
       "0             0.120482                    0.000000   \n",
       "1             0.686747                    0.035714   \n",
       "2             0.638554                    0.000000   \n",
       "3             0.662651                    0.071429   \n",
       "4             0.301205                    0.000000   \n",
       "\n",
       "   person_home_ownership_OTHER  person_home_ownership_OWN  \\\n",
       "0                          0.0                        1.0   \n",
       "1                          0.0                        0.0   \n",
       "2                          0.0                        0.0   \n",
       "3                          0.0                        0.0   \n",
       "4                          0.0                        1.0   \n",
       "\n",
       "   person_home_ownership_RENT  ...  loan_grade_C  loan_grade_D  loan_grade_E  \\\n",
       "0                         0.0  ...           0.0           0.0           0.0   \n",
       "1                         0.0  ...           1.0           0.0           0.0   \n",
       "2                         1.0  ...           1.0           0.0           0.0   \n",
       "3                         1.0  ...           1.0           0.0           0.0   \n",
       "4                         0.0  ...           0.0           0.0           0.0   \n",
       "\n",
       "   loan_grade_F  loan_grade_G  cb_person_default_on_file_Y  \\\n",
       "0           0.0           0.0                          0.0   \n",
       "1           0.0           0.0                          0.0   \n",
       "2           0.0           0.0                          0.0   \n",
       "3           0.0           0.0                          1.0   \n",
       "4           0.0           0.0                          0.0   \n",
       "\n",
       "   person_age_group_31-40  person_age_group_41-50  person_age_group_51-60  \\\n",
       "0                     0.0                     0.0                     0.0   \n",
       "1                     0.0                     0.0                     0.0   \n",
       "2                     0.0                     0.0                     0.0   \n",
       "3                     0.0                     0.0                     0.0   \n",
       "4                     0.0                     0.0                     0.0   \n",
       "\n",
       "   person_age_group_61+  \n",
       "0                   0.0  \n",
       "1                   0.0  \n",
       "2                   0.0  \n",
       "3                   0.0  \n",
       "4                   0.0  \n",
       "\n",
       "[5 rows x 26 columns]"
      ]
     },
     "execution_count": 27,
     "metadata": {},
     "output_type": "execute_result"
    }
   ],
   "source": [
    "X.head()"
   ]
  },
  {
   "cell_type": "code",
   "execution_count": 28,
   "metadata": {
    "ExecuteTime": {
     "end_time": "2023-08-26T08:25:09.891261Z",
     "start_time": "2023-08-26T08:25:09.812261Z"
    },
    "colab": {
     "base_uri": "https://localhost:8080/"
    },
    "id": "cUKRAU_bpPZc",
    "outputId": "0c043e4b-461b-4615-de6e-7a08081138a5"
   },
   "outputs": [
    {
     "data": {
      "text/plain": [
       "1        0\n",
       "2        1\n",
       "3        1\n",
       "4        1\n",
       "5        1\n",
       "        ..\n",
       "32576    0\n",
       "32577    0\n",
       "32578    1\n",
       "32579    0\n",
       "32580    0\n",
       "Name: loan_status, Length: 32574, dtype: int64"
      ]
     },
     "execution_count": 28,
     "metadata": {},
     "output_type": "execute_result"
    }
   ],
   "source": [
    "y"
   ]
  },
  {
   "cell_type": "markdown",
   "metadata": {
    "id": "lp5UQL-lkvM3"
   },
   "source": [
    "A seguir, os dados serão divididos em treino e teste, sendo reservados 30% dos dados para o teste.\n",
    "\n",
    "Um balanceamento de classes da variável alvo se fará necessário, que será feita apenas nos dados de treino, uma vez que no mundo real, os dados de fato são desbalanceados"
   ]
  },
  {
   "cell_type": "code",
   "execution_count": 29,
   "metadata": {
    "ExecuteTime": {
     "end_time": "2023-08-26T08:25:16.674818Z",
     "start_time": "2023-08-26T08:25:09.895267Z"
    },
    "id": "-6avCYKobPoC"
   },
   "outputs": [],
   "source": [
    "# divisão dos dados em treino e teste\n",
    "X_train, X_test, y_train, y_test = train_test_split(X, y, test_size=0.3, random_state=42)\n",
    "\n",
    "# seed para reproduzir o mesmo resultado\n",
    "seed = 100\n",
    "\n",
    "# cria um balanceador SMOTE\n",
    "balanceador = SMOTE(random_state= seed)\n",
    "\n",
    "# aplica o balanceador\n",
    "X_train_bal, y_train_bal = balanceador.fit_resample(X_train, y_train)"
   ]
  },
  {
   "cell_type": "code",
   "execution_count": 30,
   "metadata": {
    "ExecuteTime": {
     "end_time": "2023-08-26T08:25:20.406314Z",
     "start_time": "2023-08-26T08:25:16.732823Z"
    },
    "colab": {
     "base_uri": "https://localhost:8080/",
     "height": 501
    },
    "id": "v1u62LxWb_5r",
    "outputId": "632c66bc-145c-4d3e-e4db-8aef2224ac0e"
   },
   "outputs": [
    {
     "data": {
      "image/png": "[encoded data removed]",
      "text/plain": [
       "<Figure size 1200x500 with 1 Axes>"
      ]
     },
     "metadata": {},
     "output_type": "display_data"
    }
   ],
   "source": [
    "# variavel alvo antes do balanceamento\n",
    "\n",
    "plt.rcParams['figure.figsize'] = [12.00, 5.00]\n",
    "plt.rcParams['figure.autolayout'] = True\n",
    "y_train.value_counts().plot(kind='bar',  title= 'Risco de crédito X Não é Risco de créditos', color=['#1F77B4', '#FF7F0E'])\n",
    "plt.show()"
   ]
  },
  {
   "cell_type": "code",
   "execution_count": 31,
   "metadata": {
    "ExecuteTime": {
     "end_time": "2023-08-26T08:25:20.907316Z",
     "start_time": "2023-08-26T08:25:20.411316Z"
    },
    "colab": {
     "base_uri": "https://localhost:8080/",
     "height": 501
    },
    "id": "Ph6jVBLlb147",
    "outputId": "ecd30a0d-9703-4877-90b9-19eb38d272e0"
   },
   "outputs": [
    {
     "data": {
      "image/png": "[encoded data removed]",
      "text/plain": [
       "<Figure size 1200x500 with 1 Axes>"
      ]
     },
     "metadata": {},
     "output_type": "display_data"
    }
   ],
   "source": [
    "# variavel alvo após o balanceamento\n",
    "\n",
    "plt.rcParams['figure.figsize'] = [12.00, 5.00]\n",
    "plt.rcParams['figure.autolayout'] = True\n",
    "y_train_bal.value_counts().plot(kind='bar',  title= 'Risco de crédito X Não é Risco de créditos', color=['#1F77B4', '#FF7F0E'])\n",
    "plt.show()"
   ]
  },
  {
   "cell_type": "code",
   "execution_count": 32,
   "metadata": {
    "ExecuteTime": {
     "end_time": "2023-08-26T08:25:31.301318Z",
     "start_time": "2023-08-26T08:25:20.912317Z"
    },
    "colab": {
     "base_uri": "https://localhost:8080/"
    },
    "id": "T-tlMzWFV3go",
    "outputId": "af964074-0683-48bd-c123-573a732bf199"
   },
   "outputs": [
    {
     "data": {
      "text/plain": [
       "0.9234626010436918"
      ]
     },
     "execution_count": 32,
     "metadata": {},
     "output_type": "execute_result"
    }
   ],
   "source": [
    "# criando um classificador\n",
    "clf = RandomForestClassifier(random_state=42)\n",
    "\n",
    "# treina o classificador e verifica o score\n",
    "clf.fit(X_train_bal, y_train_bal)\n",
    "clf.score(X_test, y_test)"
   ]
  },
  {
   "cell_type": "code",
   "execution_count": 33,
   "metadata": {
    "ExecuteTime": {
     "end_time": "2023-08-26T08:25:32.744315Z",
     "start_time": "2023-08-26T08:25:31.306315Z"
    },
    "colab": {
     "base_uri": "https://localhost:8080/",
     "height": 790
    },
    "id": "8t-5efsmdBFD",
    "outputId": "7cbf093b-0ff0-45d5-d024-14223de02ed8"
   },
   "outputs": [
    {
     "data": {
      "image/png": "[encoded data removed]",
      "text/plain": [
       "<Figure size 1600x1000 with 1 Axes>"
      ]
     },
     "metadata": {},
     "output_type": "display_data"
    }
   ],
   "source": [
    "# exibindo as 10 variaveis consideradas mais importantes\n",
    "plt.rcParams['figure.figsize'] = [16.00, 10.00]\n",
    "plt.rcParams['figure.autolayout'] = True\n",
    "\n",
    "importances = pd.Series(data=clf.feature_importances_, index=X_train_bal.columns)\n",
    "importances = importances.sort_values(ascending=False).head(10)\n",
    "sns.barplot(x=importances, y=importances.index, orient='h').set_title('Importancia de Cada Variável')\n",
    "plt.show()"
   ]
  },
  {
   "cell_type": "code",
   "execution_count": 34,
   "metadata": {
    "ExecuteTime": {
     "end_time": "2023-08-26T08:25:32.776327Z",
     "start_time": "2023-08-26T08:25:32.750322Z"
    },
    "colab": {
     "base_uri": "https://localhost:8080/"
    },
    "id": "_9RCfOozrjKt",
    "outputId": "2cc09968-2267-4fc6-cd2d-14b728cba1e9"
   },
   "outputs": [
    {
     "data": {
      "text/plain": [
       "{'bootstrap': True,\n",
       " 'ccp_alpha': 0.0,\n",
       " 'class_weight': None,\n",
       " 'criterion': 'gini',\n",
       " 'max_depth': None,\n",
       " 'max_features': 'auto',\n",
       " 'max_leaf_nodes': None,\n",
       " 'max_samples': None,\n",
       " 'min_impurity_decrease': 0.0,\n",
       " 'min_samples_leaf': 1,\n",
       " 'min_samples_split': 2,\n",
       " 'min_weight_fraction_leaf': 0.0,\n",
       " 'n_estimators': 100,\n",
       " 'n_jobs': None,\n",
       " 'oob_score': False,\n",
       " 'random_state': 42,\n",
       " 'verbose': 0,\n",
       " 'warm_start': False}"
      ]
     },
     "execution_count": 34,
     "metadata": {},
     "output_type": "execute_result"
    }
   ],
   "source": [
    "clf.get_params()"
   ]
  },
  {
   "cell_type": "code",
   "execution_count": 35,
   "metadata": {
    "ExecuteTime": {
     "end_time": "2023-08-26T08:25:32.932317Z",
     "start_time": "2023-08-26T08:25:32.782319Z"
    },
    "colab": {
     "base_uri": "https://localhost:8080/"
    },
    "id": "ADKIWJT3sVMF",
    "outputId": "a4453320-0d4b-4d8e-df18-ad1d6ec4e2ae"
   },
   "outputs": [
    {
     "name": "stdout",
     "output_type": "stream",
     "text": [
      "n_estimators [300, 310, 321, 331, 342, 352, 363, 373, 384, 394, 405, 415, 426, 436, 447, 457, 468, 478, 489, 500]\n",
      "max_features ['auto', 'sqrt']\n",
      "max_depth [15, 18, 21, 25, 28, 31, 35, None]\n",
      "criterion ['gini', 'entropy']\n",
      "min_samples_split [2, 3, 5]\n",
      "min_samples_leaf [1, 2, 4]\n"
     ]
    }
   ],
   "source": [
    "# numero de arvores\n",
    "n_estimators = [int(x) for x in np.linspace(start=300, stop= 500, num=20)]\n",
    "\n",
    "# quantidade maxima de variaveis\n",
    "max_features = ['auto', 'sqrt']\n",
    "\n",
    "# profundidade maxima da arvore\n",
    "max_depth = [int(x) for x in np.linspace(15, 35, num=7)]\n",
    "max_depth.append(None)\n",
    "\n",
    "#\n",
    "criterion = ['gini', 'entropy']\n",
    "\n",
    "# numero de amostras para cada quebra\n",
    "min_samples_split = [2, 3, 5]\n",
    "\n",
    "# numero de amostras na folha\n",
    "min_samples_leaf = [1, 2, 4]\n",
    "\n",
    "#\n",
    "random_grid = {'n_estimators': n_estimators,\n",
    "               'max_features': max_features,\n",
    "               'max_depth': max_depth,\n",
    "               'criterion': criterion,##\n",
    "               'min_samples_split': min_samples_split,\n",
    "               'min_samples_leaf': min_samples_leaf}\n",
    "\n",
    "for x, y in random_grid.items():\n",
    "    print(x, y)"
   ]
  },
  {
   "cell_type": "code",
   "execution_count": 36,
   "metadata": {
    "ExecuteTime": {
     "end_time": "2023-08-26T08:37:39.372837Z",
     "start_time": "2023-08-26T08:25:32.936319Z"
    },
    "colab": {
     "base_uri": "https://localhost:8080/",
     "height": 482
    },
    "id": "41FH0Od5slQA",
    "outputId": "2c09fe78-d5c9-44ee-a631-81eb9b769ff5"
   },
   "outputs": [
    {
     "name": "stdout",
     "output_type": "stream",
     "text": [
      "Fitting 5 folds for each of 4 candidates, totalling 20 fits\n",
      "[CV 1/5] END criterion=gini, max_depth=21, max_features=auto, min_samples_leaf=4, min_samples_split=3, n_estimators=300;, score=0.861 total time=  20.3s\n",
      "[CV 2/5] END criterion=gini, max_depth=21, max_features=auto, min_samples_leaf=4, min_samples_split=3, n_estimators=300;, score=0.908 total time=  20.3s\n",
      "[CV 3/5] END criterion=gini, max_depth=21, max_features=auto, min_samples_leaf=4, min_samples_split=3, n_estimators=300;, score=0.921 total time=  19.6s\n",
      "[CV 4/5] END criterion=gini, max_depth=21, max_features=auto, min_samples_leaf=4, min_samples_split=3, n_estimators=300;, score=0.929 total time=  22.2s\n",
      "[CV 5/5] END criterion=gini, max_depth=21, max_features=auto, min_samples_leaf=4, min_samples_split=3, n_estimators=300;, score=0.929 total time=  17.7s\n",
      "[CV 1/5] END criterion=entropy, max_depth=35, max_features=sqrt, min_samples_leaf=4, min_samples_split=5, n_estimators=405;, score=0.865 total time=  39.3s\n",
      "[CV 2/5] END criterion=entropy, max_depth=35, max_features=sqrt, min_samples_leaf=4, min_samples_split=5, n_estimators=405;, score=0.915 total time=  41.2s\n",
      "[CV 3/5] END criterion=entropy, max_depth=35, max_features=sqrt, min_samples_leaf=4, min_samples_split=5, n_estimators=405;, score=0.931 total time=  33.8s\n",
      "[CV 4/5] END criterion=entropy, max_depth=35, max_features=sqrt, min_samples_leaf=4, min_samples_split=5, n_estimators=405;, score=0.938 total time=  37.3s\n",
      "[CV 5/5] END criterion=entropy, max_depth=35, max_features=sqrt, min_samples_leaf=4, min_samples_split=5, n_estimators=405;, score=0.939 total time=  45.0s\n",
      "[CV 1/5] END criterion=entropy, max_depth=35, max_features=sqrt, min_samples_leaf=1, min_samples_split=2, n_estimators=363;, score=0.883 total time=  39.7s\n",
      "[CV 2/5] END criterion=entropy, max_depth=35, max_features=sqrt, min_samples_leaf=1, min_samples_split=2, n_estimators=363;, score=0.932 total time=  38.2s\n",
      "[CV 3/5] END criterion=entropy, max_depth=35, max_features=sqrt, min_samples_leaf=1, min_samples_split=2, n_estimators=363;, score=0.954 total time=  40.1s\n",
      "[CV 4/5] END criterion=entropy, max_depth=35, max_features=sqrt, min_samples_leaf=1, min_samples_split=2, n_estimators=363;, score=0.963 total time=  35.2s\n",
      "[CV 5/5] END criterion=entropy, max_depth=35, max_features=sqrt, min_samples_leaf=1, min_samples_split=2, n_estimators=363;, score=0.960 total time=  35.4s\n",
      "[CV 1/5] END criterion=entropy, max_depth=35, max_features=auto, min_samples_leaf=4, min_samples_split=3, n_estimators=415;, score=0.865 total time=  40.9s\n",
      "[CV 2/5] END criterion=entropy, max_depth=35, max_features=auto, min_samples_leaf=4, min_samples_split=3, n_estimators=415;, score=0.914 total time=  39.0s\n",
      "[CV 3/5] END criterion=entropy, max_depth=35, max_features=auto, min_samples_leaf=4, min_samples_split=3, n_estimators=415;, score=0.931 total time=  31.7s\n",
      "[CV 4/5] END criterion=entropy, max_depth=35, max_features=auto, min_samples_leaf=4, min_samples_split=3, n_estimators=415;, score=0.938 total time=  37.7s\n",
      "[CV 5/5] END criterion=entropy, max_depth=35, max_features=auto, min_samples_leaf=4, min_samples_split=3, n_estimators=415;, score=0.938 total time=  33.6s\n"
     ]
    },
    {
     "data": {
      "text/plain": [
       "RandomizedSearchCV(cv=5, estimator=RandomForestClassifier(random_state=42),\n",
       "                   n_iter=4,\n",
       "                   param_distributions={'criterion': ['gini', 'entropy'],\n",
       "                                        'max_depth': [15, 18, 21, 25, 28, 31,\n",
       "                                                      35, None],\n",
       "                                        'max_features': ['auto', 'sqrt'],\n",
       "                                        'min_samples_leaf': [1, 2, 4],\n",
       "                                        'min_samples_split': [2, 3, 5],\n",
       "                                        'n_estimators': [300, 310, 321, 331,\n",
       "                                                         342, 352, 363, 373,\n",
       "                                                         384, 394, 405, 415,\n",
       "                                                         426, 436, 447, 457,\n",
       "                                                         468, 478, 489, 500]},\n",
       "                   random_state=42, verbose=3)"
      ]
     },
     "execution_count": 36,
     "metadata": {},
     "output_type": "execute_result"
    }
   ],
   "source": [
    "# validação cruzada para escolher os melhores hiperparametros\n",
    "rf_random = RandomizedSearchCV(estimator= clf,\n",
    "                               param_distributions= random_grid,\n",
    "                               n_iter= 4,\n",
    "                               cv= 5,\n",
    "                               verbose=3,\n",
    "                               random_state= 42)\n",
    "\n",
    "# fit RandomizedSearchCV\n",
    "rf_random.fit(X_train_bal, y_train_bal)"
   ]
  },
  {
   "cell_type": "code",
   "execution_count": 37,
   "metadata": {
    "ExecuteTime": {
     "end_time": "2023-08-26T08:37:39.638838Z",
     "start_time": "2023-08-26T08:37:39.383844Z"
    },
    "colab": {
     "base_uri": "https://localhost:8080/"
    },
    "id": "57lbKHlstEPZ",
    "outputId": "c41b3f4e-d213-456e-dbe8-29b7a2dcdf2f"
   },
   "outputs": [
    {
     "name": "stdout",
     "output_type": "stream",
     "text": [
      "Acurácia em Treinamento: 93.84%\n",
      "\n",
      "Hiperparâmetros Ideais: {'n_estimators': 363, 'min_samples_split': 2, 'min_samples_leaf': 1, 'max_features': 'sqrt', 'max_depth': 35, 'criterion': 'entropy'}\n",
      "\n",
      "Numero de treinamentos realizados:  4\n"
     ]
    }
   ],
   "source": [
    "# Obtendo e visualizando os parametros treinados\n",
    "treinos = pd.DataFrame(rf_random.cv_results_)\n",
    "\n",
    "# Acurácia em Treino\n",
    "print(f\"Acurácia em Treinamento: {rf_random.best_score_ :.2%}\")\n",
    "print(\"\")\n",
    "print(f\"Hiperparâmetros Ideais: {rf_random.best_params_}\")\n",
    "print(\"\")\n",
    "# print(\"Tempo de Treinamento do Modelo: \", round(fim - inicio,2))\n",
    "# print(\"\")\n",
    "print(\"Numero de treinamentos realizados: \", treinos.shape[0])"
   ]
  },
  {
   "cell_type": "code",
   "execution_count": 38,
   "metadata": {
    "ExecuteTime": {
     "end_time": "2023-08-26T08:37:39.764834Z",
     "start_time": "2023-08-26T08:37:39.647839Z"
    },
    "colab": {
     "base_uri": "https://localhost:8080/"
    },
    "id": "Vja8GMiLuUaS",
    "outputId": "ae1c7be6-622b-42fa-80df-6c74d1239fbe"
   },
   "outputs": [
    {
     "data": {
      "text/plain": [
       "{'n_estimators': 363,\n",
       " 'min_samples_split': 2,\n",
       " 'min_samples_leaf': 1,\n",
       " 'max_features': 'sqrt',\n",
       " 'max_depth': 35,\n",
       " 'criterion': 'entropy'}"
      ]
     },
     "execution_count": 38,
     "metadata": {},
     "output_type": "execute_result"
    }
   ],
   "source": [
    "# melhores parametros encontrados para o modelo\n",
    "rf_random.best_params_"
   ]
  },
  {
   "cell_type": "code",
   "execution_count": 39,
   "metadata": {
    "ExecuteTime": {
     "end_time": "2023-08-26T08:38:21.536277Z",
     "start_time": "2023-08-26T08:37:39.770839Z"
    },
    "colab": {
     "base_uri": "https://localhost:8080/"
    },
    "id": "tH-A_Sdbubep",
    "outputId": "bb26edac-3b5c-408c-db87-89a1cf196cb5"
   },
   "outputs": [
    {
     "data": {
      "text/plain": [
       "0.9252020873836079"
      ]
     },
     "execution_count": 39,
     "metadata": {},
     "output_type": "execute_result"
    }
   ],
   "source": [
    "# criando novo modelo com novos parametros\n",
    "new_clf = RandomForestClassifier(n_estimators=363,\n",
    "                                 min_samples_split= 2,\n",
    "                                 min_samples_leaf= 1,\n",
    "                                 max_features= 'sqrt',\n",
    "                                 max_depth= 35,\n",
    "                                 criterion = 'entropy')\n",
    "\n",
    "# treina o modelo\n",
    "new_clf.fit(X_train_bal, y_train_bal)\n",
    "\n",
    "# verifica a acuracia do modelo\n",
    "scores = new_clf.score(X_test, y_test)\n",
    "scores"
   ]
  },
  {
   "cell_type": "code",
   "execution_count": 40,
   "metadata": {
    "ExecuteTime": {
     "end_time": "2023-08-26T08:38:23.469793Z",
     "start_time": "2023-08-26T08:38:21.563277Z"
    },
    "colab": {
     "base_uri": "https://localhost:8080/"
    },
    "id": "M78V6OfD9RzP",
    "outputId": "29d46f11-bfa0-4ebe-9dc9-6be080091b05"
   },
   "outputs": [
    {
     "data": {
      "text/plain": [
       "array([0, 0, 0, ..., 0, 1, 0], dtype=int64)"
      ]
     },
     "execution_count": 40,
     "metadata": {},
     "output_type": "execute_result"
    }
   ],
   "source": [
    "# aplicando o modelo\n",
    "y_pred = new_clf.predict(X_test)\n",
    "y_pred"
   ]
  },
  {
   "cell_type": "code",
   "execution_count": 41,
   "metadata": {
    "ExecuteTime": {
     "end_time": "2023-08-26T08:38:25.173793Z",
     "start_time": "2023-08-26T08:38:23.484797Z"
    },
    "colab": {
     "base_uri": "https://localhost:8080/"
    },
    "id": "7PdCjyMh58DM",
    "outputId": "da46be0e-3739-46fb-9d94-26ce2c6fd10c"
   },
   "outputs": [
    {
     "data": {
      "text/plain": [
       "array([0.14049587, 0.14876033, 0.03305785, ..., 0.24912023, 0.8953168 ,\n",
       "       0.02754821])"
      ]
     },
     "execution_count": 41,
     "metadata": {},
     "output_type": "execute_result"
    }
   ],
   "source": [
    "# exibindo as probabilidades do modelo\n",
    "y_pred_proba = new_clf.predict_proba(X_test)[:, 1]\n",
    "y_pred_proba"
   ]
  },
  {
   "cell_type": "code",
   "execution_count": 42,
   "metadata": {
    "ExecuteTime": {
     "end_time": "2023-08-26T08:38:25.942450Z",
     "start_time": "2023-08-26T08:38:25.179800Z"
    },
    "colab": {
     "base_uri": "https://localhost:8080/",
     "height": 424
    },
    "id": "CeVGM0yi83pN",
    "outputId": "88a159f8-474d-4b63-a35d-9eed707d81d2"
   },
   "outputs": [
    {
     "data": {
      "text/html": [
       "<div>\n",
       "<style scoped>\n",
       "    .dataframe tbody tr th:only-of-type {\n",
       "        vertical-align: middle;\n",
       "    }\n",
       "\n",
       "    .dataframe tbody tr th {\n",
       "        vertical-align: top;\n",
       "    }\n",
       "\n",
       "    .dataframe thead th {\n",
       "        text-align: right;\n",
       "    }\n",
       "</style>\n",
       "<table border=\"1\" class=\"dataframe\">\n",
       "  <thead>\n",
       "    <tr style=\"text-align: right;\">\n",
       "      <th></th>\n",
       "      <th>atual</th>\n",
       "      <th>predict</th>\n",
       "      <th>probabilidade</th>\n",
       "    </tr>\n",
       "  </thead>\n",
       "  <tbody>\n",
       "    <tr>\n",
       "      <th>14453</th>\n",
       "      <td>0</td>\n",
       "      <td>0</td>\n",
       "      <td>0.140496</td>\n",
       "    </tr>\n",
       "    <tr>\n",
       "      <th>24616</th>\n",
       "      <td>0</td>\n",
       "      <td>0</td>\n",
       "      <td>0.148760</td>\n",
       "    </tr>\n",
       "    <tr>\n",
       "      <th>11102</th>\n",
       "      <td>0</td>\n",
       "      <td>0</td>\n",
       "      <td>0.033058</td>\n",
       "    </tr>\n",
       "    <tr>\n",
       "      <th>10430</th>\n",
       "      <td>1</td>\n",
       "      <td>1</td>\n",
       "      <td>0.997245</td>\n",
       "    </tr>\n",
       "    <tr>\n",
       "      <th>12634</th>\n",
       "      <td>0</td>\n",
       "      <td>0</td>\n",
       "      <td>0.110193</td>\n",
       "    </tr>\n",
       "    <tr>\n",
       "      <th>...</th>\n",
       "      <td>...</td>\n",
       "      <td>...</td>\n",
       "      <td>...</td>\n",
       "    </tr>\n",
       "    <tr>\n",
       "      <th>18226</th>\n",
       "      <td>0</td>\n",
       "      <td>0</td>\n",
       "      <td>0.079932</td>\n",
       "    </tr>\n",
       "    <tr>\n",
       "      <th>32197</th>\n",
       "      <td>1</td>\n",
       "      <td>0</td>\n",
       "      <td>0.171534</td>\n",
       "    </tr>\n",
       "    <tr>\n",
       "      <th>19658</th>\n",
       "      <td>0</td>\n",
       "      <td>0</td>\n",
       "      <td>0.249120</td>\n",
       "    </tr>\n",
       "    <tr>\n",
       "      <th>22528</th>\n",
       "      <td>1</td>\n",
       "      <td>1</td>\n",
       "      <td>0.895317</td>\n",
       "    </tr>\n",
       "    <tr>\n",
       "      <th>22856</th>\n",
       "      <td>0</td>\n",
       "      <td>0</td>\n",
       "      <td>0.027548</td>\n",
       "    </tr>\n",
       "  </tbody>\n",
       "</table>\n",
       "<p>9773 rows × 3 columns</p>\n",
       "</div>"
      ],
      "text/plain": [
       "       atual  predict  probabilidade\n",
       "14453      0        0       0.140496\n",
       "24616      0        0       0.148760\n",
       "11102      0        0       0.033058\n",
       "10430      1        1       0.997245\n",
       "12634      0        0       0.110193\n",
       "...      ...      ...            ...\n",
       "18226      0        0       0.079932\n",
       "32197      1        0       0.171534\n",
       "19658      0        0       0.249120\n",
       "22528      1        1       0.895317\n",
       "22856      0        0       0.027548\n",
       "\n",
       "[9773 rows x 3 columns]"
      ]
     },
     "execution_count": 42,
     "metadata": {},
     "output_type": "execute_result"
    }
   ],
   "source": [
    "# só pra testar mesmo\n",
    "df_test = pd.DataFrame({'atual': y_test, 'predict': y_pred, 'probabilidade': y_pred_proba})\n",
    "df_test"
   ]
  },
  {
   "cell_type": "code",
   "execution_count": 43,
   "metadata": {
    "ExecuteTime": {
     "end_time": "2023-08-26T08:38:29.957567Z",
     "start_time": "2023-08-26T08:38:25.948446Z"
    },
    "colab": {
     "base_uri": "https://localhost:8080/"
    },
    "id": "9H1sHKUABGFs",
    "outputId": "50115e4e-f460-4b4e-e5e9-872ca861475c"
   },
   "outputs": [
    {
     "data": {
      "text/plain": [
       "array([0, 1, 1, ..., 1, 0, 0], dtype=int64)"
      ]
     },
     "execution_count": 43,
     "metadata": {},
     "output_type": "execute_result"
    }
   ],
   "source": [
    "# aplicando o modelo a variavel X\n",
    "y_pred = new_clf.predict(X)\n",
    "y_pred"
   ]
  },
  {
   "cell_type": "code",
   "execution_count": 44,
   "metadata": {
    "ExecuteTime": {
     "end_time": "2023-08-26T08:38:33.990752Z",
     "start_time": "2023-08-26T08:38:29.962565Z"
    },
    "colab": {
     "base_uri": "https://localhost:8080/"
    },
    "id": "UvbGnMXGHRsc",
    "outputId": "5127beb6-2fff-4d89-c70f-694bbc1ec8ad"
   },
   "outputs": [
    {
     "data": {
      "text/plain": [
       "array([0.1046832 , 0.98071625, 0.96969697, ..., 0.97520661, 0.0055841 ,\n",
       "       0.03581267])"
      ]
     },
     "execution_count": 44,
     "metadata": {},
     "output_type": "execute_result"
    }
   ],
   "source": [
    "# exibindo as probabilidades do modelo\n",
    "y_pred_proba = new_clf.predict_proba(X)[:, 1]\n",
    "y_pred_proba"
   ]
  },
  {
   "cell_type": "code",
   "execution_count": 45,
   "metadata": {
    "ExecuteTime": {
     "end_time": "2023-08-26T08:38:34.332824Z",
     "start_time": "2023-08-26T08:38:34.030752Z"
    },
    "id": "6sGbG4hCDZvq"
   },
   "outputs": [],
   "source": [
    "# adicionando novas colunas com predições e probabilidades ao df original(tratado)\n",
    "df['predict'] = y_pred\n",
    "df['probability'] = y_pred_proba"
   ]
  },
  {
   "cell_type": "code",
   "execution_count": 46,
   "metadata": {
    "ExecuteTime": {
     "end_time": "2023-08-26T08:38:34.830628Z",
     "start_time": "2023-08-26T08:38:34.336829Z"
    },
    "colab": {
     "base_uri": "https://localhost:8080/",
     "height": 226
    },
    "id": "M6n8ELntIBFZ",
    "outputId": "39bcf557-9855-4f0c-d0a0-c5433df3059d"
   },
   "outputs": [
    {
     "data": {
      "text/html": [
       "<div>\n",
       "<style scoped>\n",
       "    .dataframe tbody tr th:only-of-type {\n",
       "        vertical-align: middle;\n",
       "    }\n",
       "\n",
       "    .dataframe tbody tr th {\n",
       "        vertical-align: top;\n",
       "    }\n",
       "\n",
       "    .dataframe thead th {\n",
       "        text-align: right;\n",
       "    }\n",
       "</style>\n",
       "<table border=\"1\" class=\"dataframe\">\n",
       "  <thead>\n",
       "    <tr style=\"text-align: right;\">\n",
       "      <th></th>\n",
       "      <th>person_age</th>\n",
       "      <th>person_income</th>\n",
       "      <th>person_home_ownership</th>\n",
       "      <th>person_emp_length</th>\n",
       "      <th>loan_intent</th>\n",
       "      <th>loan_grade</th>\n",
       "      <th>loan_amnt</th>\n",
       "      <th>loan_int_rate</th>\n",
       "      <th>loan_status</th>\n",
       "      <th>loan_percent_income</th>\n",
       "      <th>cb_person_default_on_file</th>\n",
       "      <th>cb_person_cred_hist_length</th>\n",
       "      <th>person_age_group</th>\n",
       "      <th>predict</th>\n",
       "      <th>probability</th>\n",
       "    </tr>\n",
       "  </thead>\n",
       "  <tbody>\n",
       "    <tr>\n",
       "      <th>1</th>\n",
       "      <td>21</td>\n",
       "      <td>9600</td>\n",
       "      <td>OWN</td>\n",
       "      <td>5.0</td>\n",
       "      <td>EDUCATION</td>\n",
       "      <td>B</td>\n",
       "      <td>1000</td>\n",
       "      <td>11.14</td>\n",
       "      <td>0</td>\n",
       "      <td>0.10</td>\n",
       "      <td>N</td>\n",
       "      <td>2</td>\n",
       "      <td>18-30</td>\n",
       "      <td>0</td>\n",
       "      <td>0.104683</td>\n",
       "    </tr>\n",
       "    <tr>\n",
       "      <th>2</th>\n",
       "      <td>25</td>\n",
       "      <td>9600</td>\n",
       "      <td>MORTGAGE</td>\n",
       "      <td>1.0</td>\n",
       "      <td>MEDICAL</td>\n",
       "      <td>C</td>\n",
       "      <td>5500</td>\n",
       "      <td>12.87</td>\n",
       "      <td>1</td>\n",
       "      <td>0.57</td>\n",
       "      <td>N</td>\n",
       "      <td>3</td>\n",
       "      <td>18-30</td>\n",
       "      <td>1</td>\n",
       "      <td>0.980716</td>\n",
       "    </tr>\n",
       "    <tr>\n",
       "      <th>3</th>\n",
       "      <td>23</td>\n",
       "      <td>65500</td>\n",
       "      <td>RENT</td>\n",
       "      <td>4.0</td>\n",
       "      <td>MEDICAL</td>\n",
       "      <td>C</td>\n",
       "      <td>35000</td>\n",
       "      <td>15.23</td>\n",
       "      <td>1</td>\n",
       "      <td>0.53</td>\n",
       "      <td>N</td>\n",
       "      <td>2</td>\n",
       "      <td>18-30</td>\n",
       "      <td>1</td>\n",
       "      <td>0.969697</td>\n",
       "    </tr>\n",
       "    <tr>\n",
       "      <th>4</th>\n",
       "      <td>24</td>\n",
       "      <td>54400</td>\n",
       "      <td>RENT</td>\n",
       "      <td>8.0</td>\n",
       "      <td>MEDICAL</td>\n",
       "      <td>C</td>\n",
       "      <td>35000</td>\n",
       "      <td>14.27</td>\n",
       "      <td>1</td>\n",
       "      <td>0.55</td>\n",
       "      <td>Y</td>\n",
       "      <td>4</td>\n",
       "      <td>18-30</td>\n",
       "      <td>1</td>\n",
       "      <td>0.942149</td>\n",
       "    </tr>\n",
       "    <tr>\n",
       "      <th>5</th>\n",
       "      <td>21</td>\n",
       "      <td>9900</td>\n",
       "      <td>OWN</td>\n",
       "      <td>2.0</td>\n",
       "      <td>VENTURE</td>\n",
       "      <td>A</td>\n",
       "      <td>2500</td>\n",
       "      <td>7.14</td>\n",
       "      <td>1</td>\n",
       "      <td>0.25</td>\n",
       "      <td>N</td>\n",
       "      <td>2</td>\n",
       "      <td>18-30</td>\n",
       "      <td>1</td>\n",
       "      <td>0.906336</td>\n",
       "    </tr>\n",
       "  </tbody>\n",
       "</table>\n",
       "</div>"
      ],
      "text/plain": [
       "   person_age  person_income person_home_ownership  person_emp_length  \\\n",
       "1          21           9600                   OWN                5.0   \n",
       "2          25           9600              MORTGAGE                1.0   \n",
       "3          23          65500                  RENT                4.0   \n",
       "4          24          54400                  RENT                8.0   \n",
       "5          21           9900                   OWN                2.0   \n",
       "\n",
       "  loan_intent loan_grade  loan_amnt  loan_int_rate  loan_status  \\\n",
       "1   EDUCATION          B       1000          11.14            0   \n",
       "2     MEDICAL          C       5500          12.87            1   \n",
       "3     MEDICAL          C      35000          15.23            1   \n",
       "4     MEDICAL          C      35000          14.27            1   \n",
       "5     VENTURE          A       2500           7.14            1   \n",
       "\n",
       "   loan_percent_income cb_person_default_on_file  cb_person_cred_hist_length  \\\n",
       "1                 0.10                         N                           2   \n",
       "2                 0.57                         N                           3   \n",
       "3                 0.53                         N                           2   \n",
       "4                 0.55                         Y                           4   \n",
       "5                 0.25                         N                           2   \n",
       "\n",
       "  person_age_group  predict  probability  \n",
       "1            18-30        0     0.104683  \n",
       "2            18-30        1     0.980716  \n",
       "3            18-30        1     0.969697  \n",
       "4            18-30        1     0.942149  \n",
       "5            18-30        1     0.906336  "
      ]
     },
     "execution_count": 46,
     "metadata": {},
     "output_type": "execute_result"
    }
   ],
   "source": [
    "df.head()"
   ]
  },
  {
   "cell_type": "code",
   "execution_count": 47,
   "metadata": {
    "ExecuteTime": {
     "end_time": "2023-08-26T08:39:11.123546Z",
     "start_time": "2023-08-26T08:38:34.847626Z"
    },
    "colab": {
     "base_uri": "https://localhost:8080/"
    },
    "id": "3NgkCepcngps",
    "outputId": "b6d1bb9c-ac3f-4db9-82d3-78c3fc1713ad"
   },
   "outputs": [],
   "source": [
    "# salvando o modelo criado e treinado\n",
    "#joblib.dump(new_clf, './modelo/modelo_new_clf_treinado.pk')\n",
    "\n",
    "# Salvar o modelo comprimido\n",
    "with gzip.open('./modelo/modelo_new_clf_treinado.pk.gz', 'wb') as f:\n",
    "    joblib.dump(clf, f)"
   ]
  },
  {
   "cell_type": "code",
   "execution_count": null,
   "metadata": {
    "id": "bBE77bptP9hR"
   },
   "outputs": [],
   "source": []
  },
  {
   "cell_type": "markdown",
   "metadata": {
    "id": "xByOmeyRsY_J"
   },
   "source": [
    "## Parte 4 - Organização do Script para Produção"
   ]
  },
  {
   "cell_type": "code",
   "execution_count": 48,
   "metadata": {
    "ExecuteTime": {
     "end_time": "2023-08-26T08:39:14.390805Z",
     "start_time": "2023-08-26T08:39:11.195547Z"
    },
    "id": "C7SdjUOuP8k_"
   },
   "outputs": [],
   "source": [
    "# ========= bibliotecas =============\n",
    "import pandas as pd\n",
    "import numpy as np\n",
    "import seaborn as sns\n",
    "import plotly.express as px\n",
    "import matplotlib.pyplot as plt\n",
    "import warnings\n",
    "\n",
    "from sklearn.ensemble import RandomForestClassifier\n",
    "from sklearn.model_selection import RandomizedSearchCV\n",
    "from sklearn.model_selection import train_test_split\n",
    "from sklearn.preprocessing import LabelEncoder\n",
    "from sklearn.metrics import mean_squared_error, precision_score, recall_score, f1_score, accuracy_score, roc_auc_score, confusion_matrix\n",
    "from sklearn.metrics import r2_score # para medir a acuracia do modelo\n",
    "from imblearn.over_sampling import SMOTE\n",
    "from sklearn.preprocessing import MinMaxScaler, OneHotEncoder, StandardScaler # para padronizar os dados\n",
    "from sklearn.impute import SimpleImputer\n",
    "\n",
    "import time\n",
    "import gzip\n",
    "import pickle\n",
    "import joblib # para salvar o modelo preditivo\n",
    "\n",
    "# Carregar o modelo comprimido\n",
    "with gzip.open('./modelo/modelo_new_clf_treinado.pk.gz', 'rb') as f:\n",
    "    clf = joblib.load(f)\n",
    "\n",
    "#clf = joblib.load('./modelo/modelo_new_clf_treinado.pk')\n",
    "\n",
    "sns.set()\n",
    "%matplotlib inline\n",
    "warnings.filterwarnings('ignore')\n",
    "\n",
    "# carrega o arquivo\n",
    "arquivo = './datasets/credit_risk_dataset.csv'\n",
    "\n",
    "\n",
    "\n",
    "# tratamento e limpeza de arquivo\n",
    "def load_df(arquivo):\n",
    "    df = pd.read_csv(arquivo)\n",
    "    print('Arquivos recebidos...\\nTratando os arquivos...')\n",
    "\n",
    "    # converte colunas para numerica\n",
    "    df.person_emp_length = pd.to_numeric(df.person_emp_length, errors='coerce')\n",
    "    df.loan_int_rate = pd.to_numeric(df.loan_int_rate, errors='coerce')\n",
    "\n",
    "    # preenche nulos com a media e mediana\n",
    "    df.person_emp_length = df.person_emp_length.fillna(df.person_emp_length.mean())\n",
    "    df.loan_int_rate = df.loan_int_rate.fillna(df.loan_int_rate.median())\n",
    "\n",
    "    # extrai amostra considerando menor idade de 94 e tempo de emprego menor que 120\n",
    "    df = df[(df['person_age'] <= 94) & (df['person_emp_length'] < 120)]\n",
    "\n",
    "    # # Definir os limites para cada faixa etária\n",
    "    age_bins = [18, 30, 40, 50, 60, 100]\n",
    "    age_labels = ['18-30', '31-40', '41-50', '51-60', '61+']\n",
    "\n",
    "    # adicionando nova coluna ao dataframe\n",
    "    df['person_age_group'] = pd.cut(df['person_age'], bins=age_bins, labels=age_labels, right=False)\n",
    "\n",
    "    print('Arquivos carregados e tratados com sucesso...')\n",
    "\n",
    "    return df\n",
    "\n",
    "# pre-processamento e separação dos dados\n",
    "def createXy(df, input_columns, output_column):\n",
    "\n",
    "    print('Preparando os arquivos para o processamento...')\n",
    "    minmax = MinMaxScaler()\n",
    "    onehot = OneHotEncoder(sparse=False, drop='first')\n",
    "    sm = SMOTE(random_state=42)\n",
    "\n",
    "    df.dropna(axis=0, inplace=True)\n",
    "    X = df[input_columns].copy()\n",
    "    X_num = X.select_dtypes(exclude=['object', 'category'])\n",
    "    X_num = minmax.fit_transform(X_num)\n",
    "    X_num = pd.DataFrame(data=X_num, columns=X.select_dtypes(exclude=['object', 'category']).columns)\n",
    "\n",
    "    X_cat = X.select_dtypes(include=['object', 'category'])\n",
    "    X_cat = onehot.fit_transform(X_cat)\n",
    "    columns = []\n",
    "    for c, values in zip(X.select_dtypes(include=['object', 'category']).columns, onehot.categories_):\n",
    "        for value in values[1:]:\n",
    "            columns.append(f'{c}_{value}')\n",
    "    X_cat = pd.DataFrame(data=X_cat, columns=columns)\n",
    "    X = X_num.join(X_cat)\n",
    "    y = df[output_column].copy()\n",
    "    print('Arquivos processados com sucesso...')\n",
    "\n",
    "    return X, y\n",
    "\n",
    "# previsao e adiciona colunas ao novo dataset\n",
    "def df_proba(X,df):\n",
    "    previsoes = clf.predict(X)\n",
    "    probabilidades = clf.predict_proba(X)\n",
    "    df['predict'] = previsoes\n",
    "    df['probability'] = probabilidades[:, 1]\n",
    "    print('Novo DataFrame gerado com sucesso...\\n')\n",
    "    return df\n",
    "\n",
    "def create_df():\n",
    "    # carrega e transforma o arquivo\n",
    "    df = load_df(arquivo)\n",
    "    # processa os dados\n",
    "    X, y = createXy(df, ['person_age', 'person_income', 'person_home_ownership',\n",
    "        'person_emp_length', 'loan_intent', 'loan_grade', 'loan_amnt',\n",
    "        'loan_int_rate', 'loan_percent_income',\n",
    "        'cb_person_default_on_file', 'cb_person_cred_hist_length',\n",
    "        'person_age_group'], 'loan_status')\n",
    "    df_new_pred = df_proba(X, df)\n",
    "    df_new_pred.to_csv('./datasets/df_new_pred.csv', index=False)\n",
    "    print('Arquivo .csv gerado com sucesso')\n",
    "\n",
    "    return None"
   ]
  },
  {
   "cell_type": "code",
   "execution_count": 49,
   "metadata": {
    "ExecuteTime": {
     "end_time": "2023-08-26T08:39:19.215048Z",
     "start_time": "2023-08-26T08:39:14.428991Z"
    },
    "colab": {
     "base_uri": "https://localhost:8080/"
    },
    "id": "yogQObICSM7G",
    "outputId": "1082925e-97c3-4a00-befb-18ae5d846f00"
   },
   "outputs": [
    {
     "name": "stdout",
     "output_type": "stream",
     "text": [
      "Arquivos recebidos...\n",
      "Tratando os arquivos...\n",
      "Arquivos carregados e tratados com sucesso...\n",
      "Preparando os arquivos para o processamento...\n",
      "Arquivos processados com sucesso...\n",
      "Novo DataFrame gerado com sucesso...\n",
      "\n",
      "Arquivo .csv gerado com sucesso\n"
     ]
    }
   ],
   "source": [
    "create_df()"
   ]
  },
  {
   "cell_type": "code",
   "execution_count": 50,
   "metadata": {
    "ExecuteTime": {
     "end_time": "2023-08-26T08:39:19.494036Z",
     "start_time": "2023-08-26T08:39:19.220043Z"
    }
   },
   "outputs": [
    {
     "data": {
      "text/html": [
       "<div>\n",
       "<style scoped>\n",
       "    .dataframe tbody tr th:only-of-type {\n",
       "        vertical-align: middle;\n",
       "    }\n",
       "\n",
       "    .dataframe tbody tr th {\n",
       "        vertical-align: top;\n",
       "    }\n",
       "\n",
       "    .dataframe thead th {\n",
       "        text-align: right;\n",
       "    }\n",
       "</style>\n",
       "<table border=\"1\" class=\"dataframe\">\n",
       "  <thead>\n",
       "    <tr style=\"text-align: right;\">\n",
       "      <th></th>\n",
       "      <th>person_age</th>\n",
       "      <th>person_income</th>\n",
       "      <th>person_home_ownership</th>\n",
       "      <th>person_emp_length</th>\n",
       "      <th>loan_intent</th>\n",
       "      <th>loan_grade</th>\n",
       "      <th>loan_amnt</th>\n",
       "      <th>loan_int_rate</th>\n",
       "      <th>loan_status</th>\n",
       "      <th>loan_percent_income</th>\n",
       "      <th>cb_person_default_on_file</th>\n",
       "      <th>cb_person_cred_hist_length</th>\n",
       "      <th>person_age_group</th>\n",
       "      <th>predict</th>\n",
       "      <th>probability</th>\n",
       "    </tr>\n",
       "  </thead>\n",
       "  <tbody>\n",
       "    <tr>\n",
       "      <th>0</th>\n",
       "      <td>21</td>\n",
       "      <td>9600</td>\n",
       "      <td>OWN</td>\n",
       "      <td>5.0</td>\n",
       "      <td>EDUCATION</td>\n",
       "      <td>B</td>\n",
       "      <td>1000</td>\n",
       "      <td>11.14</td>\n",
       "      <td>0</td>\n",
       "      <td>0.10</td>\n",
       "      <td>N</td>\n",
       "      <td>2</td>\n",
       "      <td>18-30</td>\n",
       "      <td>0</td>\n",
       "      <td>0.04</td>\n",
       "    </tr>\n",
       "    <tr>\n",
       "      <th>1</th>\n",
       "      <td>25</td>\n",
       "      <td>9600</td>\n",
       "      <td>MORTGAGE</td>\n",
       "      <td>1.0</td>\n",
       "      <td>MEDICAL</td>\n",
       "      <td>C</td>\n",
       "      <td>5500</td>\n",
       "      <td>12.87</td>\n",
       "      <td>1</td>\n",
       "      <td>0.57</td>\n",
       "      <td>N</td>\n",
       "      <td>3</td>\n",
       "      <td>18-30</td>\n",
       "      <td>1</td>\n",
       "      <td>0.98</td>\n",
       "    </tr>\n",
       "    <tr>\n",
       "      <th>2</th>\n",
       "      <td>23</td>\n",
       "      <td>65500</td>\n",
       "      <td>RENT</td>\n",
       "      <td>4.0</td>\n",
       "      <td>MEDICAL</td>\n",
       "      <td>C</td>\n",
       "      <td>35000</td>\n",
       "      <td>15.23</td>\n",
       "      <td>1</td>\n",
       "      <td>0.53</td>\n",
       "      <td>N</td>\n",
       "      <td>2</td>\n",
       "      <td>18-30</td>\n",
       "      <td>1</td>\n",
       "      <td>0.99</td>\n",
       "    </tr>\n",
       "    <tr>\n",
       "      <th>3</th>\n",
       "      <td>24</td>\n",
       "      <td>54400</td>\n",
       "      <td>RENT</td>\n",
       "      <td>8.0</td>\n",
       "      <td>MEDICAL</td>\n",
       "      <td>C</td>\n",
       "      <td>35000</td>\n",
       "      <td>14.27</td>\n",
       "      <td>1</td>\n",
       "      <td>0.55</td>\n",
       "      <td>Y</td>\n",
       "      <td>4</td>\n",
       "      <td>18-30</td>\n",
       "      <td>1</td>\n",
       "      <td>0.97</td>\n",
       "    </tr>\n",
       "    <tr>\n",
       "      <th>4</th>\n",
       "      <td>21</td>\n",
       "      <td>9900</td>\n",
       "      <td>OWN</td>\n",
       "      <td>2.0</td>\n",
       "      <td>VENTURE</td>\n",
       "      <td>A</td>\n",
       "      <td>2500</td>\n",
       "      <td>7.14</td>\n",
       "      <td>1</td>\n",
       "      <td>0.25</td>\n",
       "      <td>N</td>\n",
       "      <td>2</td>\n",
       "      <td>18-30</td>\n",
       "      <td>1</td>\n",
       "      <td>0.93</td>\n",
       "    </tr>\n",
       "  </tbody>\n",
       "</table>\n",
       "</div>"
      ],
      "text/plain": [
       "   person_age  person_income person_home_ownership  person_emp_length  \\\n",
       "0          21           9600                   OWN                5.0   \n",
       "1          25           9600              MORTGAGE                1.0   \n",
       "2          23          65500                  RENT                4.0   \n",
       "3          24          54400                  RENT                8.0   \n",
       "4          21           9900                   OWN                2.0   \n",
       "\n",
       "  loan_intent loan_grade  loan_amnt  loan_int_rate  loan_status  \\\n",
       "0   EDUCATION          B       1000          11.14            0   \n",
       "1     MEDICAL          C       5500          12.87            1   \n",
       "2     MEDICAL          C      35000          15.23            1   \n",
       "3     MEDICAL          C      35000          14.27            1   \n",
       "4     VENTURE          A       2500           7.14            1   \n",
       "\n",
       "   loan_percent_income cb_person_default_on_file  cb_person_cred_hist_length  \\\n",
       "0                 0.10                         N                           2   \n",
       "1                 0.57                         N                           3   \n",
       "2                 0.53                         N                           2   \n",
       "3                 0.55                         Y                           4   \n",
       "4                 0.25                         N                           2   \n",
       "\n",
       "  person_age_group  predict  probability  \n",
       "0            18-30        0         0.04  \n",
       "1            18-30        1         0.98  \n",
       "2            18-30        1         0.99  \n",
       "3            18-30        1         0.97  \n",
       "4            18-30        1         0.93  "
      ]
     },
     "execution_count": 50,
     "metadata": {},
     "output_type": "execute_result"
    }
   ],
   "source": [
    "df_new_pred = pd.read_csv('./datasets/df_new_pred.csv')\n",
    "df_new_pred.head()"
   ]
  },
  {
   "cell_type": "code",
   "execution_count": null,
   "metadata": {},
   "outputs": [],
   "source": []
  }
 ],
 "metadata": {
  "colab": {
   "collapsed_sections": [
    "IQUuPuNxK6t4"
   ],
   "provenance": []
  },
  "kernelspec": {
   "display_name": "Python 3 (ipykernel)",
   "language": "python",
   "name": "python3"
  },
  "language_info": {
   "codemirror_mode": {
    "name": "ipython",
    "version": 3
   },
   "file_extension": ".py",
   "mimetype": "text/x-python",
   "name": "python",
   "nbconvert_exporter": "python",
   "pygments_lexer": "ipython3",
   "version": "3.9.13"
  }
 },
 "nbformat": 4,
 "nbformat_minor": 1
}
